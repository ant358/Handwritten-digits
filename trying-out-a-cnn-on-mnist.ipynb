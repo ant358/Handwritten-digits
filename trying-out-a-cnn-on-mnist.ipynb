{
 "cells": [
  {
   "cell_type": "code",
   "execution_count": 1,
   "metadata": {
    "_cell_guid": "b1076dfc-b9ad-4769-8c92-a6c4dae69d19",
    "_uuid": "8f2839f25d086af736a60e9eeb907d3b93b6e0e5"
   },
   "outputs": [
    {
     "name": "stdout",
     "output_type": "stream",
     "text": [
      "/kaggle/input/digit-recognizer/sample_submission.csv\n",
      "/kaggle/input/digit-recognizer/train.csv\n",
      "/kaggle/input/digit-recognizer/test.csv\n"
     ]
    }
   ],
   "source": [
    "# This Python 3 environment comes with many helpful analytics libraries installed\n",
    "# It is defined by the kaggle/python docker image: https://github.com/kaggle/docker-python\n",
    "# For example, here's several helpful packages to load in \n",
    "\n",
    "import numpy as np # linear algebra\n",
    "import pandas as pd # data processing, CSV file I/O (e.g. pd.read_csv)\n",
    "\n",
    "# Input data files are available in the \"../input/\" directory.\n",
    "# For example, running this (by clicking run or pressing Shift+Enter) will list all files under the input directory\n",
    "\n",
    "import os\n",
    "for dirname, _, filenames in os.walk('/kaggle/input'):\n",
    "    for filename in filenames:\n",
    "        print(os.path.join(dirname, filename))\n",
    "\n",
    "# Any results you write to the current directory are saved as output."
   ]
  },
  {
   "cell_type": "markdown",
   "metadata": {},
   "source": [
    "# Testing a CNN on MNIST"
   ]
  },
  {
   "cell_type": "markdown",
   "metadata": {},
   "source": [
    "### Imports required"
   ]
  },
  {
   "cell_type": "code",
   "execution_count": 2,
   "metadata": {},
   "outputs": [
    {
     "name": "stderr",
     "output_type": "stream",
     "text": [
      "Using TensorFlow backend.\n"
     ]
    }
   ],
   "source": [
    "%matplotlib inline\n",
    "import matplotlib\n",
    "import matplotlib.pyplot as plt\n",
    "from keras.layers import Dense\n",
    "from keras.layers import Dropout\n",
    "from keras.layers import Conv2D, MaxPooling2D, Flatten\n",
    "from keras.models import Sequential\n",
    "from keras.utils import to_categorical\n",
    "from keras.callbacks import ReduceLROnPlateau, EarlyStopping\n",
    "from sklearn.metrics import accuracy_score\n",
    "import pandas as pd\n",
    "import numpy as np\n",
    "from sklearn.model_selection import train_test_split"
   ]
  },
  {
   "cell_type": "markdown",
   "metadata": {},
   "source": [
    "## Have a look at the data and prepare it."
   ]
  },
  {
   "cell_type": "code",
   "execution_count": 3,
   "metadata": {
    "_cell_guid": "79c7e3d0-c299-4dcb-8224-4455121ee9b0",
    "_uuid": "d629ff2d2480ee46fbb7e2d37f6b5fab8052498a"
   },
   "outputs": [
    {
     "data": {
      "text/plain": [
       "(42000, 785)"
      ]
     },
     "execution_count": 3,
     "metadata": {},
     "output_type": "execute_result"
    }
   ],
   "source": [
    "X = pd.read_csv('/kaggle/input/digit-recognizer/train.csv')\n",
    "X.shape"
   ]
  },
  {
   "cell_type": "code",
   "execution_count": 4,
   "metadata": {},
   "outputs": [
    {
     "data": {
      "text/html": [
       "<div>\n",
       "<style scoped>\n",
       "    .dataframe tbody tr th:only-of-type {\n",
       "        vertical-align: middle;\n",
       "    }\n",
       "\n",
       "    .dataframe tbody tr th {\n",
       "        vertical-align: top;\n",
       "    }\n",
       "\n",
       "    .dataframe thead th {\n",
       "        text-align: right;\n",
       "    }\n",
       "</style>\n",
       "<table border=\"1\" class=\"dataframe\">\n",
       "  <thead>\n",
       "    <tr style=\"text-align: right;\">\n",
       "      <th></th>\n",
       "      <th>label</th>\n",
       "      <th>pixel0</th>\n",
       "      <th>pixel1</th>\n",
       "      <th>pixel2</th>\n",
       "      <th>pixel3</th>\n",
       "      <th>pixel4</th>\n",
       "      <th>pixel5</th>\n",
       "      <th>pixel6</th>\n",
       "      <th>pixel7</th>\n",
       "      <th>pixel8</th>\n",
       "      <th>...</th>\n",
       "      <th>pixel774</th>\n",
       "      <th>pixel775</th>\n",
       "      <th>pixel776</th>\n",
       "      <th>pixel777</th>\n",
       "      <th>pixel778</th>\n",
       "      <th>pixel779</th>\n",
       "      <th>pixel780</th>\n",
       "      <th>pixel781</th>\n",
       "      <th>pixel782</th>\n",
       "      <th>pixel783</th>\n",
       "    </tr>\n",
       "  </thead>\n",
       "  <tbody>\n",
       "    <tr>\n",
       "      <td>0</td>\n",
       "      <td>1</td>\n",
       "      <td>0</td>\n",
       "      <td>0</td>\n",
       "      <td>0</td>\n",
       "      <td>0</td>\n",
       "      <td>0</td>\n",
       "      <td>0</td>\n",
       "      <td>0</td>\n",
       "      <td>0</td>\n",
       "      <td>0</td>\n",
       "      <td>...</td>\n",
       "      <td>0</td>\n",
       "      <td>0</td>\n",
       "      <td>0</td>\n",
       "      <td>0</td>\n",
       "      <td>0</td>\n",
       "      <td>0</td>\n",
       "      <td>0</td>\n",
       "      <td>0</td>\n",
       "      <td>0</td>\n",
       "      <td>0</td>\n",
       "    </tr>\n",
       "    <tr>\n",
       "      <td>1</td>\n",
       "      <td>0</td>\n",
       "      <td>0</td>\n",
       "      <td>0</td>\n",
       "      <td>0</td>\n",
       "      <td>0</td>\n",
       "      <td>0</td>\n",
       "      <td>0</td>\n",
       "      <td>0</td>\n",
       "      <td>0</td>\n",
       "      <td>0</td>\n",
       "      <td>...</td>\n",
       "      <td>0</td>\n",
       "      <td>0</td>\n",
       "      <td>0</td>\n",
       "      <td>0</td>\n",
       "      <td>0</td>\n",
       "      <td>0</td>\n",
       "      <td>0</td>\n",
       "      <td>0</td>\n",
       "      <td>0</td>\n",
       "      <td>0</td>\n",
       "    </tr>\n",
       "    <tr>\n",
       "      <td>2</td>\n",
       "      <td>1</td>\n",
       "      <td>0</td>\n",
       "      <td>0</td>\n",
       "      <td>0</td>\n",
       "      <td>0</td>\n",
       "      <td>0</td>\n",
       "      <td>0</td>\n",
       "      <td>0</td>\n",
       "      <td>0</td>\n",
       "      <td>0</td>\n",
       "      <td>...</td>\n",
       "      <td>0</td>\n",
       "      <td>0</td>\n",
       "      <td>0</td>\n",
       "      <td>0</td>\n",
       "      <td>0</td>\n",
       "      <td>0</td>\n",
       "      <td>0</td>\n",
       "      <td>0</td>\n",
       "      <td>0</td>\n",
       "      <td>0</td>\n",
       "    </tr>\n",
       "    <tr>\n",
       "      <td>3</td>\n",
       "      <td>4</td>\n",
       "      <td>0</td>\n",
       "      <td>0</td>\n",
       "      <td>0</td>\n",
       "      <td>0</td>\n",
       "      <td>0</td>\n",
       "      <td>0</td>\n",
       "      <td>0</td>\n",
       "      <td>0</td>\n",
       "      <td>0</td>\n",
       "      <td>...</td>\n",
       "      <td>0</td>\n",
       "      <td>0</td>\n",
       "      <td>0</td>\n",
       "      <td>0</td>\n",
       "      <td>0</td>\n",
       "      <td>0</td>\n",
       "      <td>0</td>\n",
       "      <td>0</td>\n",
       "      <td>0</td>\n",
       "      <td>0</td>\n",
       "    </tr>\n",
       "    <tr>\n",
       "      <td>4</td>\n",
       "      <td>0</td>\n",
       "      <td>0</td>\n",
       "      <td>0</td>\n",
       "      <td>0</td>\n",
       "      <td>0</td>\n",
       "      <td>0</td>\n",
       "      <td>0</td>\n",
       "      <td>0</td>\n",
       "      <td>0</td>\n",
       "      <td>0</td>\n",
       "      <td>...</td>\n",
       "      <td>0</td>\n",
       "      <td>0</td>\n",
       "      <td>0</td>\n",
       "      <td>0</td>\n",
       "      <td>0</td>\n",
       "      <td>0</td>\n",
       "      <td>0</td>\n",
       "      <td>0</td>\n",
       "      <td>0</td>\n",
       "      <td>0</td>\n",
       "    </tr>\n",
       "  </tbody>\n",
       "</table>\n",
       "<p>5 rows × 785 columns</p>\n",
       "</div>"
      ],
      "text/plain": [
       "   label  pixel0  pixel1  pixel2  pixel3  pixel4  pixel5  pixel6  pixel7  \\\n",
       "0      1       0       0       0       0       0       0       0       0   \n",
       "1      0       0       0       0       0       0       0       0       0   \n",
       "2      1       0       0       0       0       0       0       0       0   \n",
       "3      4       0       0       0       0       0       0       0       0   \n",
       "4      0       0       0       0       0       0       0       0       0   \n",
       "\n",
       "   pixel8  ...  pixel774  pixel775  pixel776  pixel777  pixel778  pixel779  \\\n",
       "0       0  ...         0         0         0         0         0         0   \n",
       "1       0  ...         0         0         0         0         0         0   \n",
       "2       0  ...         0         0         0         0         0         0   \n",
       "3       0  ...         0         0         0         0         0         0   \n",
       "4       0  ...         0         0         0         0         0         0   \n",
       "\n",
       "   pixel780  pixel781  pixel782  pixel783  \n",
       "0         0         0         0         0  \n",
       "1         0         0         0         0  \n",
       "2         0         0         0         0  \n",
       "3         0         0         0         0  \n",
       "4         0         0         0         0  \n",
       "\n",
       "[5 rows x 785 columns]"
      ]
     },
     "execution_count": 4,
     "metadata": {},
     "output_type": "execute_result"
    }
   ],
   "source": [
    "X.head()"
   ]
  },
  {
   "cell_type": "code",
   "execution_count": 5,
   "metadata": {},
   "outputs": [],
   "source": [
    "y = X['label']"
   ]
  },
  {
   "cell_type": "code",
   "execution_count": 6,
   "metadata": {},
   "outputs": [],
   "source": [
    "X.drop(['label'], axis=1, inplace=True)"
   ]
  },
  {
   "cell_type": "code",
   "execution_count": 7,
   "metadata": {},
   "outputs": [],
   "source": [
    "# normalise the data by dividing by the max\n",
    "X /=255"
   ]
  },
  {
   "cell_type": "code",
   "execution_count": 8,
   "metadata": {},
   "outputs": [],
   "source": [
    "# convert X to an array\n",
    "X = np.array(X)\n",
    "# reshape to be [samples][width][height][channels]\n",
    "Xr = X.reshape(X.shape[0], 28, 28, 1)\n",
    "\n",
    "# normalise the data divide by the highest value \n",
    "# Xr /= 255 works in jupyter but not here? moved above"
   ]
  },
  {
   "cell_type": "code",
   "execution_count": 9,
   "metadata": {},
   "outputs": [
    {
     "data": {
      "text/plain": [
       "(42000, 28, 28, 1)"
      ]
     },
     "execution_count": 9,
     "metadata": {},
     "output_type": "execute_result"
    }
   ],
   "source": [
    "Xr.shape"
   ]
  },
  {
   "cell_type": "code",
   "execution_count": 10,
   "metadata": {},
   "outputs": [],
   "source": [
    "# convert class vectors to binary class matrices\n",
    "num_classes = 10\n",
    "y = to_categorical(y, num_classes)"
   ]
  },
  {
   "cell_type": "code",
   "execution_count": 11,
   "metadata": {},
   "outputs": [],
   "source": [
    "X_train, X_val, y_train, y_val = train_test_split(Xr, y, test_size=0.1, random_state=42, shuffle=True)"
   ]
  },
  {
   "cell_type": "code",
   "execution_count": 12,
   "metadata": {},
   "outputs": [
    {
     "name": "stdout",
     "output_type": "stream",
     "text": [
      "Train on 37800 samples, validate on 4200 samples\n",
      "Epoch 1/50\n",
      "37800/37800 [==============================] - 9s 247us/step - loss: 0.2710 - acc: 0.9142 - val_loss: 0.1009 - val_acc: 0.9712\n",
      "Epoch 2/50\n",
      "37800/37800 [==============================] - 4s 98us/step - loss: 0.1134 - acc: 0.9654 - val_loss: 0.0716 - val_acc: 0.9810\n",
      "Epoch 3/50\n",
      "37800/37800 [==============================] - 4s 103us/step - loss: 0.0908 - acc: 0.9747 - val_loss: 0.0686 - val_acc: 0.9814\n",
      "Epoch 4/50\n",
      "37800/37800 [==============================] - 4s 99us/step - loss: 0.0798 - acc: 0.9773 - val_loss: 0.0743 - val_acc: 0.9807\n",
      "Epoch 5/50\n",
      "37800/37800 [==============================] - 4s 110us/step - loss: 0.0716 - acc: 0.9788 - val_loss: 0.0512 - val_acc: 0.9855\n",
      "Epoch 6/50\n",
      "37800/37800 [==============================] - 4s 104us/step - loss: 0.0667 - acc: 0.9812 - val_loss: 0.0728 - val_acc: 0.9807\n",
      "Epoch 7/50\n",
      "37800/37800 [==============================] - 4s 97us/step - loss: 0.0545 - acc: 0.9842 - val_loss: 0.0798 - val_acc: 0.9819\n",
      "\n",
      "Epoch 00007: ReduceLROnPlateau reducing learning rate to 0.00010000000474974513.\n",
      "Epoch 8/50\n",
      "37800/37800 [==============================] - 4s 97us/step - loss: 0.0265 - acc: 0.9920 - val_loss: 0.0406 - val_acc: 0.9900\n",
      "Epoch 9/50\n",
      "37800/37800 [==============================] - 4s 104us/step - loss: 0.0179 - acc: 0.9948 - val_loss: 0.0366 - val_acc: 0.9900\n",
      "Epoch 10/50\n",
      "37800/37800 [==============================] - 4s 109us/step - loss: 0.0150 - acc: 0.9953 - val_loss: 0.0349 - val_acc: 0.9905\n",
      "Epoch 11/50\n",
      "37800/37800 [==============================] - 4s 106us/step - loss: 0.0127 - acc: 0.9962 - val_loss: 0.0381 - val_acc: 0.9905\n",
      "Epoch 12/50\n",
      "37800/37800 [==============================] - 4s 112us/step - loss: 0.0107 - acc: 0.9969 - val_loss: 0.0405 - val_acc: 0.9900\n",
      "\n",
      "Epoch 00012: ReduceLROnPlateau reducing learning rate to 1.0000000474974514e-05.\n",
      "Epoch 13/50\n",
      "37800/37800 [==============================] - 4s 112us/step - loss: 0.0087 - acc: 0.9972 - val_loss: 0.0379 - val_acc: 0.9900\n",
      "Epoch 14/50\n",
      "37800/37800 [==============================] - 4s 101us/step - loss: 0.0083 - acc: 0.9974 - val_loss: 0.0373 - val_acc: 0.9900\n",
      "\n",
      "Epoch 00014: ReduceLROnPlateau reducing learning rate to 1.0000000656873453e-06.\n",
      "Epoch 15/50\n",
      "37800/37800 [==============================] - 4s 101us/step - loss: 0.0074 - acc: 0.9978 - val_loss: 0.0371 - val_acc: 0.9902\n",
      "Epoch 16/50\n",
      "37800/37800 [==============================] - 4s 97us/step - loss: 0.0075 - acc: 0.9979 - val_loss: 0.0370 - val_acc: 0.9905\n",
      "\n",
      "Epoch 00016: ReduceLROnPlateau reducing learning rate to 1.0000001111620805e-07.\n",
      "Epoch 17/50\n",
      "37800/37800 [==============================] - 4s 104us/step - loss: 0.0079 - acc: 0.9976 - val_loss: 0.0370 - val_acc: 0.9902\n",
      "Epoch 18/50\n",
      "37800/37800 [==============================] - 4s 98us/step - loss: 0.0078 - acc: 0.9976 - val_loss: 0.0370 - val_acc: 0.9905\n",
      "\n",
      "Epoch 00018: ReduceLROnPlateau reducing learning rate to 1.000000082740371e-08.\n",
      "Epoch 19/50\n",
      "37800/37800 [==============================] - 4s 97us/step - loss: 0.0072 - acc: 0.9979 - val_loss: 0.0370 - val_acc: 0.9905\n",
      "Epoch 20/50\n",
      "37800/37800 [==============================] - 4s 106us/step - loss: 0.0073 - acc: 0.9978 - val_loss: 0.0370 - val_acc: 0.9905\n",
      "\n",
      "Epoch 00020: ReduceLROnPlateau reducing learning rate to 1.000000082740371e-09.\n",
      "Epoch 21/50\n",
      "37800/37800 [==============================] - 4s 111us/step - loss: 0.0072 - acc: 0.9980 - val_loss: 0.0370 - val_acc: 0.9905\n",
      "Epoch 22/50\n",
      "37800/37800 [==============================] - 4s 102us/step - loss: 0.0069 - acc: 0.9980 - val_loss: 0.0370 - val_acc: 0.9905\n",
      "\n",
      "Epoch 00022: ReduceLROnPlateau reducing learning rate to 1.000000082740371e-10.\n",
      "Epoch 23/50\n",
      "37800/37800 [==============================] - 4s 106us/step - loss: 0.0078 - acc: 0.9976 - val_loss: 0.0370 - val_acc: 0.9905\n",
      "Epoch 24/50\n",
      "37800/37800 [==============================] - 4s 98us/step - loss: 0.0080 - acc: 0.9978 - val_loss: 0.0370 - val_acc: 0.9905\n",
      "\n",
      "Epoch 00024: ReduceLROnPlateau reducing learning rate to 1.000000082740371e-11.\n",
      "Epoch 00024: early stopping\n",
      "\n",
      "The highest test score 0.99\n"
     ]
    },
    {
     "data": {
      "image/png": "[encoded data removed]",
      "text/plain": [
       "<Figure size 432x288 with 1 Axes>"
      ]
     },
     "metadata": {
      "needs_background": "light"
     },
     "output_type": "display_data"
    }
   ],
   "source": [
    "red_lr = ReduceLROnPlateau(monitor='val_acc', patience=2, verbose=1, mode='max' )\n",
    "\n",
    "es = EarlyStopping(monitor='val_acc', mode='max', verbose=1, patience=8)\n",
    "\n",
    "model = Sequential()\n",
    "\n",
    "model.add(Conv2D(64, input_shape=(28, 28, 1) , kernel_size=(7,7), activation='elu'))\n",
    "model.add(MaxPooling2D(pool_size=(3, 3)))\n",
    "model.add(Conv2D(64, kernel_size=(3,3), activation='elu'))\n",
    "model.add(Conv2D(64, kernel_size=(3,3), activation='elu'))\n",
    "model.add(MaxPooling2D(pool_size=(2, 2)))\n",
    "model.add(Flatten())\n",
    "model.add(Dense(300, activation='elu'))\n",
    "model.add(Dropout(0.5))\n",
    "model.add(Dense(300, activation='elu'))\n",
    "model.add(Dropout(0.5))\n",
    "model.add(Dense(10, activation='softmax'))\n",
    "# Compile the model\n",
    "model.compile(optimizer='adam', loss='categorical_crossentropy', metrics=['accuracy'])\n",
    "#Train the model\n",
    "model_his = model.fit(X_train, y_train, \n",
    "                      batch_size=50,\n",
    "                      epochs=50, \n",
    "                      callbacks=[es, red_lr],\n",
    "                      validation_data=(X_val, y_val) \n",
    "                      )\n",
    "\n",
    "# Plot train vs test accuracy per epoch\n",
    "plt.figure()\n",
    "# Use the history metrics\n",
    "plt.plot(model_his.history['acc'])\n",
    "plt.plot(model_his.history['val_acc'])\n",
    "# Make it pretty\n",
    "plt.title('Model accuracy')\n",
    "plt.ylabel('Accuracy')\n",
    "plt.xlabel('Epoch')\n",
    "plt.legend(['Train', 'Test'])\n",
    "# the highest accuracy score for the adding another hidden layer\n",
    "print('\\nThe highest test score', max(model_his.history['val_acc']).round(3))\n",
    "plt.show()"
   ]
  },
  {
   "cell_type": "code",
   "execution_count": 13,
   "metadata": {},
   "outputs": [
    {
     "data": {
      "text/plain": [
       "(28000, 784)"
      ]
     },
     "execution_count": 13,
     "metadata": {},
     "output_type": "execute_result"
    }
   ],
   "source": [
    "X_test = pd.read_csv('/kaggle/input/digit-recognizer/test.csv')\n",
    "X_test.shape"
   ]
  },
  {
   "cell_type": "code",
   "execution_count": 14,
   "metadata": {},
   "outputs": [],
   "source": [
    "# normalise the data by dividing by the max\n",
    "X_test /=255\n",
    "# convert X to an array\n",
    "X_test = np.array(X_test)\n",
    "# reshape to be [samples][width][height][channels]\n",
    "X_test = X_test.reshape(X_test.shape[0], 28, 28, 1)\n",
    "\n"
   ]
  },
  {
   "cell_type": "code",
   "execution_count": 15,
   "metadata": {},
   "outputs": [
    {
     "name": "stdout",
     "output_type": "stream",
     "text": [
      "Epoch 1/25\n",
      "42000/42000 [==============================] - 6s 133us/step - loss: 0.0113 - acc: 0.9970\n",
      "Epoch 2/25\n",
      " 1400/42000 [>.............................] - ETA: 4s - loss: 0.0099 - acc: 0.9971"
     ]
    },
    {
     "name": "stderr",
     "output_type": "stream",
     "text": [
      "/opt/conda/lib/python3.6/site-packages/keras/callbacks.py:1109: RuntimeWarning: Reduce LR on plateau conditioned on metric `val_acc` which is not available. Available metrics are: loss,acc,lr\n",
      "  (self.monitor, ','.join(list(logs.keys()))), RuntimeWarning\n"
     ]
    },
    {
     "name": "stdout",
     "output_type": "stream",
     "text": [
      "42000/42000 [==============================] - 5s 122us/step - loss: 0.0116 - acc: 0.9968\n",
      "Epoch 3/25\n",
      "42000/42000 [==============================] - 6s 136us/step - loss: 0.0118 - acc: 0.9966\n",
      "Epoch 4/25\n",
      "42000/42000 [==============================] - 5s 118us/step - loss: 0.0116 - acc: 0.9969\n",
      "Epoch 5/25\n",
      "42000/42000 [==============================] - 5s 124us/step - loss: 0.0118 - acc: 0.9971\n",
      "Epoch 6/25\n",
      "42000/42000 [==============================] - 5s 124us/step - loss: 0.0118 - acc: 0.9969\n",
      "Epoch 7/25\n",
      "42000/42000 [==============================] - 5s 129us/step - loss: 0.0115 - acc: 0.9969\n",
      "Epoch 8/25\n",
      "42000/42000 [==============================] - 5s 120us/step - loss: 0.0106 - acc: 0.9970\n",
      "Epoch 9/25\n",
      "42000/42000 [==============================] - 6s 134us/step - loss: 0.0115 - acc: 0.9970\n",
      "Epoch 10/25\n",
      "42000/42000 [==============================] - 5s 121us/step - loss: 0.0113 - acc: 0.9968\n",
      "Epoch 11/25\n",
      "42000/42000 [==============================] - 6s 133us/step - loss: 0.0115 - acc: 0.9968\n",
      "Epoch 12/25\n",
      "42000/42000 [==============================] - 5s 126us/step - loss: 0.0117 - acc: 0.9967\n",
      "Epoch 13/25\n",
      "42000/42000 [==============================] - 5s 129us/step - loss: 0.0115 - acc: 0.9968\n",
      "Epoch 14/25\n",
      "42000/42000 [==============================] - 5s 119us/step - loss: 0.0116 - acc: 0.9970\n",
      "Epoch 15/25\n",
      "42000/42000 [==============================] - 6s 133us/step - loss: 0.0121 - acc: 0.9970\n",
      "Epoch 16/25\n",
      "42000/42000 [==============================] - 5s 121us/step - loss: 0.0120 - acc: 0.9970\n",
      "Epoch 17/25\n",
      "42000/42000 [==============================] - 5s 124us/step - loss: 0.0116 - acc: 0.9967\n",
      "Epoch 18/25\n",
      "42000/42000 [==============================] - 5s 119us/step - loss: 0.0126 - acc: 0.9965\n",
      "Epoch 19/25\n",
      "42000/42000 [==============================] - 6s 131us/step - loss: 0.0115 - acc: 0.9966\n",
      "Epoch 20/25\n",
      "42000/42000 [==============================] - 5s 123us/step - loss: 0.0113 - acc: 0.9969\n",
      "Epoch 21/25\n",
      "42000/42000 [==============================] - 6s 132us/step - loss: 0.0109 - acc: 0.9971\n",
      "Epoch 22/25\n",
      "42000/42000 [==============================] - 5s 127us/step - loss: 0.0116 - acc: 0.9967\n",
      "Epoch 23/25\n",
      "42000/42000 [==============================] - 6s 141us/step - loss: 0.0119 - acc: 0.9967\n",
      "Epoch 24/25\n",
      "42000/42000 [==============================] - 6s 134us/step - loss: 0.0111 - acc: 0.9970\n",
      "Epoch 25/25\n",
      "42000/42000 [==============================] - 5s 127us/step - loss: 0.0118 - acc: 0.9968\n"
     ]
    }
   ],
   "source": [
    "#Train the model\n",
    "model.fit(Xr, y, \n",
    "          batch_size=50,\n",
    "          epochs=25, \n",
    "          callbacks=[red_lr] ) # need to shedule the learning rate reduction\n",
    "\n",
    "preds = model.predict(X_test)"
   ]
  },
  {
   "cell_type": "code",
   "execution_count": 16,
   "metadata": {},
   "outputs": [
    {
     "data": {
      "text/plain": [
       "array([1.2039341e-11, 3.9459292e-15, 1.0000000e+00, 8.3248315e-09,\n",
       "       1.0629854e-14, 1.4026874e-12, 4.9938559e-10, 8.5042418e-09,\n",
       "       3.8083082e-11, 8.6878279e-14], dtype=float32)"
      ]
     },
     "execution_count": 16,
     "metadata": {},
     "output_type": "execute_result"
    }
   ],
   "source": [
    "preds[0]"
   ]
  },
  {
   "cell_type": "code",
   "execution_count": 17,
   "metadata": {},
   "outputs": [],
   "source": [
    "# convert back from a categorical array to an array of the digits predicted and expected\n",
    "num_preds = np.argmax(preds, axis=1)"
   ]
  },
  {
   "cell_type": "code",
   "execution_count": 18,
   "metadata": {},
   "outputs": [],
   "source": [
    "sub = pd.read_csv('/kaggle/input/digit-recognizer/sample_submission.csv')"
   ]
  },
  {
   "cell_type": "code",
   "execution_count": 19,
   "metadata": {},
   "outputs": [
    {
     "data": {
      "text/html": [
       "<div>\n",
       "<style scoped>\n",
       "    .dataframe tbody tr th:only-of-type {\n",
       "        vertical-align: middle;\n",
       "    }\n",
       "\n",
       "    .dataframe tbody tr th {\n",
       "        vertical-align: top;\n",
       "    }\n",
       "\n",
       "    .dataframe thead th {\n",
       "        text-align: right;\n",
       "    }\n",
       "</style>\n",
       "<table border=\"1\" class=\"dataframe\">\n",
       "  <thead>\n",
       "    <tr style=\"text-align: right;\">\n",
       "      <th></th>\n",
       "      <th>ImageId</th>\n",
       "      <th>Label</th>\n",
       "    </tr>\n",
       "  </thead>\n",
       "  <tbody>\n",
       "    <tr>\n",
       "      <td>0</td>\n",
       "      <td>1</td>\n",
       "      <td>0</td>\n",
       "    </tr>\n",
       "    <tr>\n",
       "      <td>1</td>\n",
       "      <td>2</td>\n",
       "      <td>0</td>\n",
       "    </tr>\n",
       "    <tr>\n",
       "      <td>2</td>\n",
       "      <td>3</td>\n",
       "      <td>0</td>\n",
       "    </tr>\n",
       "    <tr>\n",
       "      <td>3</td>\n",
       "      <td>4</td>\n",
       "      <td>0</td>\n",
       "    </tr>\n",
       "    <tr>\n",
       "      <td>4</td>\n",
       "      <td>5</td>\n",
       "      <td>0</td>\n",
       "    </tr>\n",
       "  </tbody>\n",
       "</table>\n",
       "</div>"
      ],
      "text/plain": [
       "   ImageId  Label\n",
       "0        1      0\n",
       "1        2      0\n",
       "2        3      0\n",
       "3        4      0\n",
       "4        5      0"
      ]
     },
     "execution_count": 19,
     "metadata": {},
     "output_type": "execute_result"
    }
   ],
   "source": [
    "sub.head()"
   ]
  },
  {
   "cell_type": "code",
   "execution_count": 20,
   "metadata": {},
   "outputs": [],
   "source": [
    "sub['Label'] = num_preds"
   ]
  },
  {
   "cell_type": "code",
   "execution_count": 21,
   "metadata": {},
   "outputs": [
    {
     "data": {
      "text/html": [
       "<div>\n",
       "<style scoped>\n",
       "    .dataframe tbody tr th:only-of-type {\n",
       "        vertical-align: middle;\n",
       "    }\n",
       "\n",
       "    .dataframe tbody tr th {\n",
       "        vertical-align: top;\n",
       "    }\n",
       "\n",
       "    .dataframe thead th {\n",
       "        text-align: right;\n",
       "    }\n",
       "</style>\n",
       "<table border=\"1\" class=\"dataframe\">\n",
       "  <thead>\n",
       "    <tr style=\"text-align: right;\">\n",
       "      <th></th>\n",
       "      <th>ImageId</th>\n",
       "      <th>Label</th>\n",
       "    </tr>\n",
       "  </thead>\n",
       "  <tbody>\n",
       "    <tr>\n",
       "      <td>0</td>\n",
       "      <td>1</td>\n",
       "      <td>2</td>\n",
       "    </tr>\n",
       "    <tr>\n",
       "      <td>1</td>\n",
       "      <td>2</td>\n",
       "      <td>0</td>\n",
       "    </tr>\n",
       "    <tr>\n",
       "      <td>2</td>\n",
       "      <td>3</td>\n",
       "      <td>9</td>\n",
       "    </tr>\n",
       "    <tr>\n",
       "      <td>3</td>\n",
       "      <td>4</td>\n",
       "      <td>9</td>\n",
       "    </tr>\n",
       "    <tr>\n",
       "      <td>4</td>\n",
       "      <td>5</td>\n",
       "      <td>3</td>\n",
       "    </tr>\n",
       "  </tbody>\n",
       "</table>\n",
       "</div>"
      ],
      "text/plain": [
       "   ImageId  Label\n",
       "0        1      2\n",
       "1        2      0\n",
       "2        3      9\n",
       "3        4      9\n",
       "4        5      3"
      ]
     },
     "execution_count": 21,
     "metadata": {},
     "output_type": "execute_result"
    }
   ],
   "source": [
    "sub.head()"
   ]
  },
  {
   "cell_type": "code",
   "execution_count": 22,
   "metadata": {},
   "outputs": [],
   "source": [
    "sub.to_csv('./sub2.csv', index=False)"
   ]
  }
 ],
 "metadata": {
  "kernelspec": {
   "display_name": "Python 3",
   "language": "python",
   "name": "python3"
  },
  "language_info": {
   "codemirror_mode": {
    "name": "ipython",
    "version": 3
   },
   "file_extension": ".py",
   "mimetype": "text/x-python",
   "name": "python",
   "nbconvert_exporter": "python",
   "pygments_lexer": "ipython3",
   "version": "3.6.6"
  }
 },
 "nbformat": 4,
 "nbformat_minor": 4
}
