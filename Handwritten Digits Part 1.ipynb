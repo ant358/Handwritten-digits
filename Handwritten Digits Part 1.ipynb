{
 "cells": [
  {
   "cell_type": "markdown",
   "metadata": {},
   "source": [
    "# Reading Handwritten Digits with Deep Neural Networks\n",
    "<img align=\"left\" width=\"130\" height=\"130\" src=\"/images/mnist_digit0.png\">  \n",
    "## Part 1: Constructing a basic baseline model with Keras and TensorFlow\n",
    "Overview of deep neural networks | Examine the MNIST handwritten digits dataset | Construct a baseline model using Keras and TensorFlow. \n",
    "\n",
    "<!-- TEASER_END -->"
   ]
  },
  {
   "cell_type": "markdown",
   "metadata": {},
   "source": [
    "## Import the required python modules"
   ]
  },
  {
   "cell_type": "code",
   "execution_count": 1,
   "metadata": {},
   "outputs": [],
   "source": [
    "import matplotlib\n",
    "import matplotlib.pyplot as plt\n",
    "%matplotlib inline\n",
    "from tensorflow.keras.layers import Dense\n",
    "from tensorflow.keras.models import Sequential\n",
    "from tensorflow.keras.utils import to_categorical\n",
    "import pandas as pd\n",
    "import numpy as np\n",
    "from sklearn.datasets import fetch_openml\n",
    "from sklearn.model_selection import train_test_split\n",
    "import warnings\n",
    "warnings.filterwarnings(action='once') # supress the repetition of warnings"
   ]
  },
  {
   "cell_type": "markdown",
   "metadata": {},
   "source": [
    "## What is a Deep Neural Network?\n",
    "A Deep Neural Network (DNN) is a type of artificial neural network inspired by biological neural systems. Essentially the data travels through layers of artificial neurons called nodes, to an output layer. During the supervised learning that we will do here; the state of these nodes is adjusted to reflect the probability that the outputs match the target labels of the training data. Each connection in the network has a weight value and each neuron has a bias value. The layers between the input and output layers are called hidden layers, typically a DNN will have many (5 - 100) hidden layers.\n",
    "<img src=\"/images/DNN_diagram.png\"> \n",
    "Fig. 1. Deep Neural Network architecture<sup>[1](#references)</sup>  \n",
    "For a full history and description of DNN’ s see: https://en.wikipedia.org/wiki/Deep_learning"
   ]
  },
  {
   "cell_type": "markdown",
   "metadata": {},
   "source": [
    "## What is the aim of this project?\n",
    "The aim of this project is to discover through a set of experiments, how the architecture and hyperparameters of a Deep Neural Network affect its performance. The performance will be evaluated by measuring the accuracy of the DNN’s predictions and the time it takes to predict. Finally, the resulting model will be used to enter a machine learning competition to see how it performs against other models.\n"
   ]
  },
  {
   "cell_type": "markdown",
   "metadata": {},
   "source": [
    "## The Data  \n",
    "The data we are going to use to evaluate the Deep Neural Networks is the MNIST database of handwritten digits. The images are black and white and 28 x 28 pixels in size. The images have been preprocessed; the centre of mass of the images has been fixed to the centre of the image frame. The data is in the form of arrays with 784 features, i.e. the pixel value for each pixel of the  28 x 28 image. There are 70000 images in total.  \n",
    "For full details of the data set used here see https://www.openml.org/d/554 "
   ]
  },
  {
   "cell_type": "code",
   "execution_count": 2,
   "metadata": {},
   "outputs": [],
   "source": [
    "# Load data from https://www.openml.org/d/554\n",
    "X, y = fetch_openml('mnist_784', version=1, return_X_y=True)"
   ]
  },
  {
   "cell_type": "markdown",
   "metadata": {},
   "source": [
    "### What does the imported data set look like?   \n",
    "The data was received as two arrays loaded onto the variables X and y. X contains our image data and y contains the labels to describe each image that we will try to predict."
   ]
  },
  {
   "cell_type": "markdown",
   "metadata": {},
   "source": [
    "### X  values\n",
    "The shape command below shows that there are 70000 images, which fits with the data described above. The 784 columns is due to the data having one column for each pixel. i.e. 28 x 28 = 784. The data is in the numpy array format and the values range from 0 to 255 for the pixel intensity.  "
   ]
  },
  {
   "cell_type": "code",
   "execution_count": 3,
   "metadata": {},
   "outputs": [
    {
     "name": "stdout",
     "output_type": "stream",
     "text": [
      " X shape: (70000, 784) \n",
      " X type: <class 'numpy.ndarray'> \n",
      " Data:\n",
      " [[0. 0. 0. ... 0. 0. 0.]\n",
      " [0. 0. 0. ... 0. 0. 0.]\n",
      " [0. 0. 0. ... 0. 0. 0.]\n",
      " [0. 0. 0. ... 0. 0. 0.]\n",
      " [0. 0. 0. ... 0. 0. 0.]] \n",
      " X Max: 255.0 \n",
      " X Min 0.0\n"
     ]
    }
   ],
   "source": [
    "print(' X shape:', X.shape, '\\n X type:', type(X), '\\n Data:\\n',\n",
    "      X[:5], '\\n X Max:', X.max(), '\\n X Min', X.min())"
   ]
  },
  {
   "cell_type": "markdown",
   "metadata": {},
   "source": [
    "### The  y labels \n",
    "y contains our target label and only has a single column with the labels 0 to 9. Notice that the labels are text strings rather than numbers."
   ]
  },
  {
   "cell_type": "code",
   "execution_count": 4,
   "metadata": {},
   "outputs": [
    {
     "name": "stdout",
     "output_type": "stream",
     "text": [
      " y shape: (70000,) \n",
      " y type: <class 'numpy.ndarray'> \n",
      " Data:\n",
      " ['5' '0' '4' '1' '9'] \n",
      " y Max: 9 \n",
      " y Min 0\n"
     ]
    }
   ],
   "source": [
    "print(' y shape:', y.shape, '\\n y type:', type(y), '\\n Data:\\n',\n",
    "      y[:5], '\\n y Max:', y.max(), '\\n y Min', y.min())"
   ]
  },
  {
   "cell_type": "markdown",
   "metadata": {},
   "source": [
    "### What do the digit images look like?  \n",
    "Let’s have a look at the first 10 digits, to show the data as an image it needs to be reshaped into a 28 x 28 array again.  \n",
    "  \n",
    "How many digits do we have of each class? This shows the balance of the data set and it is important to check that we have enough of each digit type when training the DNN. \n",
    "  \n",
    "Distribution of the digit classes\n"
   ]
  },
  {
   "cell_type": "code",
   "execution_count": 5,
   "metadata": {},
   "outputs": [
    {
     "data": {
      "image/png": "[encoded data removed]",
      "text/plain": [
       "<Figure size 1152x1152 with 10 Axes>"
      ]
     },
     "metadata": {
      "needs_background": "light"
     },
     "output_type": "display_data"
    },
    {
     "name": "stdout",
     "output_type": "stream",
     "text": [
      "Fig. 2. What do the digit images look like?\n"
     ]
    }
   ],
   "source": [
    "# create a figure\n",
    "fig = plt.figure(figsize=(16, 16))\n",
    "# loop through the first 10 digits\n",
    "for i in range(10):\n",
    "    # put the 784 columns into a 28 x 28 format\n",
    "    a_digit = X[i].reshape(28, 28)\n",
    "    # arrange the plots\n",
    "    ax = fig.add_subplot(2, 5, i+1)\n",
    "    # plot using imshow with a greyscale colormap\n",
    "    ax = plt.imshow(a_digit, cmap=matplotlib.cm.binary)\n",
    "    # add the digit label to the title\n",
    "    ax = plt.title('The digit label: {}'.format(y[i]))\n",
    "    # get rid of the additional whitespace around the image\n",
    "    fig.tight_layout()\n",
    "plt.show()\n",
    "print('Fig. 2. What do the digit images look like?')"
   ]
  },
  {
   "cell_type": "markdown",
   "metadata": {},
   "source": [
    "## How many digits are in each class?\n",
    "This shows the balance of the data set and it is important to check that we have enough of each digit type when training the DNN."
   ]
  },
  {
   "cell_type": "code",
   "execution_count": 6,
   "metadata": {},
   "outputs": [
    {
     "data": {
      "image/png": "[encoded data removed]",
      "text/plain": [
       "<Figure size 432x288 with 1 Axes>"
      ]
     },
     "metadata": {
      "needs_background": "light"
     },
     "output_type": "display_data"
    },
    {
     "name": "stdout",
     "output_type": "stream",
     "text": [
      "Fig. 3. How many digits are in each class?\n"
     ]
    }
   ],
   "source": [
    "# get the count of each value in the array\n",
    "unique, counts = np.unique(y, return_counts=True)\n",
    "# create a bar plot to show the counts\n",
    "plt.bar(unique, counts)\n",
    "# add the labels and the title\n",
    "plt.xlabel('digit')\n",
    "plt.ylabel('count')\n",
    "plt.title('Distribution of the digit classes')\n",
    "plt.show()\n",
    "print('Fig. 3. How many digits are in each class?')"
   ]
  },
  {
   "cell_type": "markdown",
   "metadata": {},
   "source": [
    "### Split the data into a training and validation set.  \n",
    "In order to test the performance of the model, the images need to be split into a training and validation set (test set). To begin with, we will keep back 25% of the image data to evaluate the model's performance on data it has not been trained on; so we can evaluate any overfitting of the model to the training data. The term validation data set is often used for a portion of the training data held back, it is sometimes called the test data set, however, this name is normally used for test data with unseen labels such as in data science competitions. When the data is split it will also be stratified and shuffled to ensure that we maintain the even mix of digit types. The random_state attribute ensures that we can repeat exactly the same split, if the data split is repeated."
   ]
  },
  {
   "cell_type": "code",
   "execution_count": 7,
   "metadata": {},
   "outputs": [],
   "source": [
    "X_train, X_val, y_train, y_val = train_test_split(X, y,\n",
    "                                                  test_size=0.25,\n",
    "                                                  random_state=42,\n",
    "                                                  shuffle=True,\n",
    "                                                  stratify=y)"
   ]
  },
  {
   "cell_type": "markdown",
   "metadata": {},
   "source": [
    "### The y labels need to be converted to binary class matrices  \n",
    "In order to easily compare the 10 output nodes to the y labels, we need the y data to be in a similar format. i.e. a value of 1 or 0 for each label. To do this we will use the Keras function to_categorical.  "
   ]
  },
  {
   "cell_type": "code",
   "execution_count": 8,
   "metadata": {},
   "outputs": [
    {
     "name": "stdout",
     "output_type": "stream",
     "text": [
      "Original label: ['4']\n",
      "Binary matix: [[0. 0. 0. 0. 1. 0. 0. 0. 0. 0.]]\n"
     ]
    }
   ],
   "source": [
    "num_classes = 10\n",
    "y_train = to_categorical(y_train, num_classes)\n",
    "print('Original label:', y_val[:1])\n",
    "y_val = to_categorical(y_val, num_classes)\n",
    "print('Binary matix:', y_val[:1])"
   ]
  },
  {
   "cell_type": "markdown",
   "metadata": {},
   "source": [
    "### Constructing a basic baseline model\n",
    "\n",
    "I have found TensorFlow https://www.tensorflow.org/ to be a fast, accurate and an easy to use platform for creating machine learning models based on the neural network paradigm and the high-level API, Keras https://keras.io/  to be the easiest way to construct the DNN model we will build here.\n",
    "A neural network would normally have more hidden layers, here we will start with just one hidden layer with 10 nodes, after the input layer to make a baseline model which can then be further optimised. The hidden layer will be a single Keras Sequential Dense layer with Rectified Linear Unit (ReLU) activation used to return a value. The term dense layer is used as each node is fully connected to every input value. ReLU activation has become the default activation function for most applications,  it returns 0 if the input is negative or a sum of the positive inputs. The final output layer will have 10 nodes to represent each possible digit. The output layer will be a Keras Sequential Dense layer with softmax activation. The softmax function takes the inputs to each node of the layer and turns these values are into a probability that sums to one. The softmax probability is then used to select the most likely output node to represent the predicted label. \n"
   ]
  },
  {
   "cell_type": "code",
   "execution_count": 9,
   "metadata": {},
   "outputs": [
    {
     "name": "stdout",
     "output_type": "stream",
     "text": [
      "Model: \"sequential\"\n",
      "_________________________________________________________________\n",
      "Layer (type)                 Output Shape              Param #   \n",
      "=================================================================\n",
      "dense (Dense)                (None, 10)                7850      \n",
      "_________________________________________________________________\n",
      "dense_1 (Dense)              (None, 10)                110       \n",
      "=================================================================\n",
      "Total params: 7,960\n",
      "Trainable params: 7,960\n",
      "Non-trainable params: 0\n",
      "_________________________________________________________________\n"
     ]
    }
   ],
   "source": [
    "# use Keras Sequential to build the model\n",
    "model = Sequential()\n",
    "\n",
    "# add layer 1 with 10 nodes\n",
    "model.add(Dense(10, input_dim=784,  activation='relu'))\n",
    "\n",
    "# add the output layer\n",
    "model.add(Dense(10, activation='softmax'))\n",
    "\n",
    "# Compile the model\n",
    "model.compile(optimizer='adam', loss='categorical_crossentropy',\n",
    "              metrics=['accuracy'])\n",
    "# print a descritpion of the model\n",
    "model.summary()"
   ]
  },
  {
   "cell_type": "markdown",
   "metadata": {},
   "source": [
    "The model summary table above describes the model and shows a count of the trainable parameters. 7960. This number comes from the connection weights of the 784 inputs x the 10 nodes + 10 bias weights that can be applied to each node giving the 7850 in the first row. Then the second row comes from the 10 outputs from the first layer to the 10 final output nodes + another 10 bias weights on these adding up to the 110 in the second row. Then the two rows are added together 7850 + 110 = 7960. So already, with our very simple DNN, there are a lot of parameters to adjust! \n"
   ]
  },
  {
   "cell_type": "markdown",
   "metadata": {},
   "source": [
    "### Train the model  \n",
    "To begin with, we will use 10 training cycles called epochs to adjust the model weights. The model will be evaluated with an accuracy score both on the training data and the validation data that it has not been trained on. The performance history during the training epochs of the model will be collected and displayed in a graph. "
   ]
  },
  {
   "cell_type": "code",
   "execution_count": 10,
   "metadata": {},
   "outputs": [
    {
     "name": "stdout",
     "output_type": "stream",
     "text": [
      "Train on 52500 samples, validate on 17500 samples\n",
      "Epoch 1/10\n",
      "52500/52500 [==============================] - 11s 200us/sample - loss: 2.8817 - accuracy: 0.1115 - val_loss: 2.3085 - val_accuracy: 0.1117\n",
      "Epoch 2/10\n",
      "52500/52500 [==============================] - 9s 169us/sample - loss: 2.1233 - accuracy: 0.1840 - val_loss: 1.9741 - val_accuracy: 0.2674\n",
      "Epoch 3/10\n",
      "52500/52500 [==============================] - 8s 159us/sample - loss: 1.8742 - accuracy: 0.2843 - val_loss: 1.7618 - val_accuracy: 0.3206\n",
      "Epoch 4/10\n",
      "52500/52500 [==============================] - 8s 154us/sample - loss: 1.7133 - accuracy: 0.3423 - val_loss: 1.6640 - val_accuracy: 0.3590\n",
      "Epoch 5/10\n",
      "52500/52500 [==============================] - 9s 163us/sample - loss: 1.6166 - accuracy: 0.3625 - val_loss: 1.6015 - val_accuracy: 0.3809\n",
      "Epoch 6/10\n",
      "52500/52500 [==============================] - 9s 166us/sample - loss: 1.5403 - accuracy: 0.3837 - val_loss: 1.5216 - val_accuracy: 0.3926\n",
      "Epoch 7/10\n",
      "52500/52500 [==============================] - 10s 181us/sample - loss: 1.4792 - accuracy: 0.4057 - val_loss: 1.4275 - val_accuracy: 0.4315\n",
      "Epoch 8/10\n",
      "52500/52500 [==============================] - 9s 165us/sample - loss: 1.3710 - accuracy: 0.4624 - val_loss: 1.3153 - val_accuracy: 0.5139\n",
      "Epoch 9/10\n",
      "52500/52500 [==============================] - 9s 176us/sample - loss: 1.1892 - accuracy: 0.5454 - val_loss: 1.1761 - val_accuracy: 0.6026\n",
      "Epoch 10/10\n",
      "52500/52500 [==============================] - 9s 166us/sample - loss: 1.0837 - accuracy: 0.6030 - val_loss: 1.0808 - val_accuracy: 0.6119\n"
     ]
    }
   ],
   "source": [
    "# Train the model\n",
    "model_his = model.fit(X_train, y_train,\n",
    "                      epochs=10,\n",
    "                      validation_data=(X_val, y_val)\n",
    "                      )"
   ]
  },
  {
   "cell_type": "markdown",
   "metadata": {},
   "source": [
    "## Plot the Training History  \n",
    "Here we create a function to plot the training history. The function will be stored (cut and pasted into a class Src) in another file called Src.py (src short for source) that I will use to keep repeated functions for use in the rest of the notebooks in this series. To have a look at Src.py follow the original site link at the top of the post."
   ]
  },
  {
   "cell_type": "code",
   "execution_count": 11,
   "metadata": {},
   "outputs": [],
   "source": [
    "def plot_results(acc, val_acc, fig_no):\n",
    "    \"\"\"Plot the training history data\"\"\"\n",
    "    # Plot train vs test accuracy per epoch\n",
    "    plt.figure()\n",
    "\n",
    "    # Use the history metrics\n",
    "    plt.plot(acc)\n",
    "    plt.plot(val_acc)\n",
    "\n",
    "    # add some labels\n",
    "    plt.title('Model accuracy')\n",
    "    plt.ylabel('Accuracy')\n",
    "    plt.xlabel('Epoch')\n",
    "    plt.legend(['Training data', 'Validation data'])\n",
    "    plt.ylim(0, 1)  # set to highest possible value to\n",
    "\n",
    "    # the highest accuracy score\n",
    "    print('\\n Fig {}. The highest validation score:{:.3f} | The highest training score {:.3f}'.format(\n",
    "        fig_no, max(val_acc), max(acc)))\n",
    "    plt.show()\n",
    "    # keep a record of the results\n",
    "    return (max(acc), max(val_acc))"
   ]
  },
  {
   "cell_type": "code",
   "execution_count": 12,
   "metadata": {},
   "outputs": [
    {
     "name": "stdout",
     "output_type": "stream",
     "text": [
      "\n",
      " Fig 4. The highest validation score:0.612 | The highest training score 0.603\n"
     ]
    },
    {
     "data": {
      "image/png": "[encoded data removed]",
      "text/plain": [
       "<Figure size 432x288 with 1 Axes>"
      ]
     },
     "metadata": {
      "needs_background": "light"
     },
     "output_type": "display_data"
    }
   ],
   "source": [
    "# plot the results and collect the data in a variable\n",
    "exp1 = plot_results(model_his.history['accuracy'], model_his.history['val_accuracy'], 4)"
   ]
  },
  {
   "cell_type": "markdown",
   "metadata": {},
   "source": [
    "### How long does the model take to predict digits?\n",
    "Let’s see how long the model takes to make it predictions for different batch sizes of inputted images"
   ]
  },
  {
   "cell_type": "code",
   "execution_count": 15,
   "metadata": {},
   "outputs": [
    {
     "name": "stdout",
     "output_type": "stream",
     "text": [
      "Time to predict 1 digits:\n",
      "52.3 ms ± 8.63 ms per loop (mean ± std. dev. of 7 runs, 10 loops each)\n",
      "Time to predict 10 digits:\n",
      "41.6 ms ± 2.48 ms per loop (mean ± std. dev. of 7 runs, 10 loops each)\n",
      "Time to predict 100 digits:\n",
      "49.1 ms ± 2.88 ms per loop (mean ± std. dev. of 7 runs, 10 loops each)\n",
      "Time to predict 1000 digits:\n",
      "95.6 ms ± 8.25 ms per loop (mean ± std. dev. of 7 runs, 10 loops each)\n",
      "Time to predict 10000 digits:\n",
      "526 ms ± 7.17 ms per loop (mean ± std. dev. of 7 runs, 1 loop each)\n"
     ]
    }
   ],
   "source": [
    "# create a list of input batch sizes\n",
    "samples = [1, 10, 100, 1000, 10000]\n",
    "# repeat the predictions for each batch size and show the run time\n",
    "for s in samples:\n",
    "    print('Time to predict {} digits:'.format(s))\n",
    "    %timeit model.predict(X_val[:s])"
   ]
  },
  {
   "cell_type": "markdown",
   "metadata": {},
   "source": [
    "## Part 1. Results  \n",
    "As you can see the model got more accurate with each training epoch. The model did not perform particularly well with a maximum accuracy of around 60%, as expected for this baseline model. The model will be improved in the following posts of this series; starting with scaling the data in the next post. The validation score and the training score were very similar demonstrating that the model was not overfitting to the training data.   \n",
    "The timing results show that the model requires around 40ms to get started and interestingly it is far more time-efficient to pass it large batches of input data than small ones. In a future post, I will also examine the memory usage of the model.\n"
   ]
  },
  {
   "cell_type": "markdown",
   "metadata": {},
   "source": [
    "## Using the model  \n",
    "How do we go about actually using the model built here? Below is the code to feed a single digit into the model and see how it performs. A digit was selected at random (index = 17) by me for demonstration purposes - you could play around with this and select any X value to feed it. Note the numpy function argmax() is used here to give the index of the maximum value of the output array and the y input array to convert back from the categorical matrix to a single label value for the digit."
   ]
  },
  {
   "cell_type": "code",
   "execution_count": 14,
   "metadata": {},
   "outputs": [
    {
     "data": {
      "image/png": "[encoded data removed]",
      "text/plain": [
       "<Figure size 288x288 with 1 Axes>"
      ]
     },
     "metadata": {
      "needs_background": "light"
     },
     "output_type": "display_data"
    },
    {
     "name": "stdout",
     "output_type": "stream",
     "text": [
      "The original digit label: 4\n",
      "The predicted label: 9\n"
     ]
    }
   ],
   "source": [
    "# print a the selected digit image\n",
    "fig = plt.figure(figsize=(4,4))\n",
    "a_digit = X_val[17].reshape(28, 28)\n",
    "plt.imshow(a_digit, cmap=matplotlib.cm.binary)\n",
    "fig.tight_layout()\n",
    "plt.show()\n",
    "# print the selected digits label\n",
    "print('The original digit label:', np.argmax(y_val[17]))\n",
    "# print the selected digits prediction\n",
    "print('The predicted label:', np.argmax(model.predict(X_val[17:18])))"
   ]
  },
  {
   "cell_type": "markdown",
   "metadata": {},
   "source": [
    "The model got this digit wrong. Lets have a look at the output values to see what is going on"
   ]
  },
  {
   "cell_type": "code",
   "execution_count": 17,
   "metadata": {},
   "outputs": [
    {
     "data": {
      "text/plain": [
       "array([[0.00152033, 0.00318356, 0.00548032, 0.01648142, 0.31346008,\n",
       "        0.03493109, 0.12505329, 0.15036301, 0.03139669, 0.31813017]],\n",
       "      dtype=float32)"
      ]
     },
     "execution_count": 17,
     "metadata": {},
     "output_type": "execute_result"
    }
   ],
   "source": [
    "model.predict(X_val[17:18])"
   ]
  },
  {
   "cell_type": "markdown",
   "metadata": {},
   "source": [
    "You can see from the output probabilities that the model was split between a 4 at 31.3% and a 9 at 31.8% with the 9 just winning!"
   ]
  },
  {
   "cell_type": "markdown",
   "metadata": {},
   "source": [
    "## Conclusion\n",
    "It was easy to build a predictive model for pattern recognition with Keras and TensorFlow. The baseline model has room for improvement and the steps for improving the model will be the basis of the next posts in this series starting with evaluating the effect of scaling the data in the next post. Follow the Original Site link at the top of the post to download the source files used in this post."
   ]
  },
  {
   "cell_type": "markdown",
   "metadata": {},
   "source": [
    "## References  \n",
    "1) Lie, B.R. and Kalmar, A.N.H., 2018. Deep Reinforcement Learning and Generative Adversarial Networks for Abstractive Text Summarization (Master's thesis, NTNU).\n"
   ]
  },
  {
   "cell_type": "markdown",
   "metadata": {},
   "source": [
    "notebook version 1.191106"
   ]
  }
 ],
 "metadata": {
  "kernelspec": {
   "display_name": "Python 3",
   "language": "python",
   "name": "python3"
  },
  "language_info": {
   "codemirror_mode": {
    "name": "ipython",
    "version": 3
   },
   "file_extension": ".py",
   "mimetype": "text/x-python",
   "name": "python",
   "nbconvert_exporter": "python",
   "pygments_lexer": "ipython3",
   "version": "3.7.5"
  },
  "nikola": {
   "category": "Machine Learning/Deep neural networks",
   "date": "2019-11-6",
   "link": "https://github.com/ant358/Handwritten-digits",
   "previewimage": "/images/mnist_digit0.png",
   "slug": "Deep neural networks",
   "tags": "Pattern recognition, Image analysis, Keras, TensorFlow, matplotlib,pandas, numpy, sklearn",
   "title": "Reading Handwritten Digits with Deep Neural Networks - Part 1: Constructing a basic baseline model with Keras and TensorFlow"
  },
  "toc": {
   "base_numbering": 1,
   "nav_menu": {},
   "number_sections": true,
   "sideBar": true,
   "skip_h1_title": true,
   "title_cell": "Table of Contents",
   "title_sidebar": "Contents",
   "toc_cell": false,
   "toc_position": {},
   "toc_section_display": true,
   "toc_window_display": false
  },
  "varInspector": {
   "cols": {
    "lenName": 16,
    "lenType": 16,
    "lenVar": 40
   },
   "kernels_config": {
    "python": {
     "delete_cmd_postfix": "",
     "delete_cmd_prefix": "del ",
     "library": "var_list.py",
     "varRefreshCmd": "print(var_dic_list())"
    },
    "r": {
     "delete_cmd_postfix": ") ",
     "delete_cmd_prefix": "rm(",
     "library": "var_list.r",
     "varRefreshCmd": "cat(var_dic_list()) "
    }
   },
   "types_to_exclude": [
    "module",
    "function",
    "builtin_function_or_method",
    "instance",
    "_Feature"
   ],
   "window_display": false
  }
 },
 "nbformat": 4,
 "nbformat_minor": 2
}
