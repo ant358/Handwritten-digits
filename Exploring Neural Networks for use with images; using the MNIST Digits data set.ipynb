{
 "cells": [
  {
   "cell_type": "markdown",
   "metadata": {
    "toc": true
   },
   "source": [
    "<h1>Table of Contents<span class=\"tocSkip\"></span></h1>\n",
    "<div class=\"toc\"><ul class=\"toc-item\"><li><span><a href=\"#Imports\" data-toc-modified-id=\"Imports-1\"><span class=\"toc-item-num\">1&nbsp;&nbsp;</span>Imports</a></span></li><li><span><a href=\"#The-Data\" data-toc-modified-id=\"The-Data-2\"><span class=\"toc-item-num\">2&nbsp;&nbsp;</span>The Data</a></span><ul class=\"toc-item\"><li><span><a href=\"#What-does-the-imported-data-set-look-like?\" data-toc-modified-id=\"What-does-the-imported-data-set-look-like?-2.1\"><span class=\"toc-item-num\">2.1&nbsp;&nbsp;</span>What does the imported data set look like?</a></span><ul class=\"toc-item\"><li><span><a href=\"#X\" data-toc-modified-id=\"X-2.1.1\"><span class=\"toc-item-num\">2.1.1&nbsp;&nbsp;</span>X</a></span></li><li><span><a href=\"#y\" data-toc-modified-id=\"y-2.1.2\"><span class=\"toc-item-num\">2.1.2&nbsp;&nbsp;</span>y</a></span></li></ul></li><li><span><a href=\"#What-do-the-digit-images-look-like?\" data-toc-modified-id=\"What-do-the-digit-images-look-like?-2.2\"><span class=\"toc-item-num\">2.2&nbsp;&nbsp;</span>What do the digit images look like?</a></span></li><li><span><a href=\"#Split-the-data-into-a-training-and-test-set.\" data-toc-modified-id=\"Split-the-data-into-a-training-and-test-set.-2.3\"><span class=\"toc-item-num\">2.3&nbsp;&nbsp;</span>Split the data into a training and test set.</a></span></li><li><span><a href=\"#The-y-labels-need-to-be-converted-to-binary-class-matrices\" data-toc-modified-id=\"The-y-labels-need-to-be-converted-to-binary-class-matrices-2.4\"><span class=\"toc-item-num\">2.4&nbsp;&nbsp;</span>The y labels need to be converted to binary class matrices</a></span></li></ul></li><li><span><a href=\"#Experimenting-with-a-basic-Deep-Neural-Network-for-image-analysis-using-the-MNIST-digit-dataset\" data-toc-modified-id=\"Experimenting-with-a-basic-Deep-Neural-Network-for-image-analysis-using-the-MNIST-digit-dataset-3\"><span class=\"toc-item-num\">3&nbsp;&nbsp;</span>Experimenting with a basic Deep Neural Network for image analysis using the MNIST digit dataset</a></span><ul class=\"toc-item\"><li><span><a href=\"#Experiment-1---Using-a-basic-Keras-Sequential-Model\" data-toc-modified-id=\"Experiment-1---Using-a-basic-Keras-Sequential-Model-3.1\"><span class=\"toc-item-num\">3.1&nbsp;&nbsp;</span>Experiment 1 - Using a basic Keras Sequential Model</a></span><ul class=\"toc-item\"><li><span><a href=\"#Experiment-1-results\" data-toc-modified-id=\"Experiment-1-results-3.1.1\"><span class=\"toc-item-num\">3.1.1&nbsp;&nbsp;</span>Experiment 1 results</a></span></li></ul></li><li><span><a href=\"#Experiment-2---What-effect-does-scaling-the-data-have?\" data-toc-modified-id=\"Experiment-2---What-effect-does-scaling-the-data-have?-3.2\"><span class=\"toc-item-num\">3.2&nbsp;&nbsp;</span>Experiment 2 - What effect does scaling the data have?</a></span></li><li><span><a href=\"#Add-a-second-hidden-layer\" data-toc-modified-id=\"Add-a-second-hidden-layer-3.3\"><span class=\"toc-item-num\">3.3&nbsp;&nbsp;</span>Add a second hidden layer</a></span></li><li><span><a href=\"#What-effect-does-adding-a-batch-size-have?\" data-toc-modified-id=\"What-effect-does-adding-a-batch-size-have?-3.4\"><span class=\"toc-item-num\">3.4&nbsp;&nbsp;</span>What effect does adding a batch size have?</a></span><ul class=\"toc-item\"><li><span><a href=\"#A-small-batch-size,-smooths-the-accuracy-curve-for-the-test-samples\" data-toc-modified-id=\"A-small-batch-size,-smooths-the-accuracy-curve-for-the-test-samples-3.4.1\"><span class=\"toc-item-num\">3.4.1&nbsp;&nbsp;</span>A small batch size, smooths the accuracy curve for the test samples</a></span></li></ul></li><li><span><a href=\"#Hands-on-book-recommends-multiple-layers-of-the-same-size-with-no-taper\" data-toc-modified-id=\"Hands-on-book-recommends-multiple-layers-of-the-same-size-with-no-taper-3.5\"><span class=\"toc-item-num\">3.5&nbsp;&nbsp;</span>Hands on book recommends multiple layers of the same size with no taper</a></span><ul class=\"toc-item\"><li><span><a href=\"#Summary\" data-toc-modified-id=\"Summary-3.5.1\"><span class=\"toc-item-num\">3.5.1&nbsp;&nbsp;</span>Summary</a></span></li></ul></li></ul></li><li><span><a href=\"#Improved-Keras-DNN-model\" data-toc-modified-id=\"Improved-Keras-DNN-model-4\"><span class=\"toc-item-num\">4&nbsp;&nbsp;</span>Improved Keras DNN model</a></span><ul class=\"toc-item\"><li><span><a href=\"#Steps-to-avoid-vanishing/-exploding-gradients\" data-toc-modified-id=\"Steps-to-avoid-vanishing/-exploding-gradients-4.1\"><span class=\"toc-item-num\">4.1&nbsp;&nbsp;</span>Steps to avoid vanishing/ exploding gradients</a></span><ul class=\"toc-item\"><li><span><a href=\"#Usage-of-initializers\" data-toc-modified-id=\"Usage-of-initializers-4.1.1\"><span class=\"toc-item-num\">4.1.1&nbsp;&nbsp;</span>Usage of initializers</a></span></li><li><span><a href=\"#Activation-Functions\" data-toc-modified-id=\"Activation-Functions-4.1.2\"><span class=\"toc-item-num\">4.1.2&nbsp;&nbsp;</span>Activation Functions</a></span></li></ul></li><li><span><a href=\"#Regularisation\" data-toc-modified-id=\"Regularisation-4.2\"><span class=\"toc-item-num\">4.2&nbsp;&nbsp;</span>Regularisation</a></span><ul class=\"toc-item\"><li><span><a href=\"#Early-Stopping\" data-toc-modified-id=\"Early-Stopping-4.2.1\"><span class=\"toc-item-num\">4.2.1&nbsp;&nbsp;</span>Early Stopping</a></span></li><li><span><a href=\"#Learning-Rate-reduction\" data-toc-modified-id=\"Learning-Rate-reduction-4.2.2\"><span class=\"toc-item-num\">4.2.2&nbsp;&nbsp;</span>Learning Rate reduction</a></span></li><li><span><a href=\"#Adding-Dropout-Layers\" data-toc-modified-id=\"Adding-Dropout-Layers-4.2.3\"><span class=\"toc-item-num\">4.2.3&nbsp;&nbsp;</span>Adding Dropout Layers</a></span></li><li><span><a href=\"#Addng-more-epochs-to-the-dropout-model\" data-toc-modified-id=\"Addng-more-epochs-to-the-dropout-model-4.2.4\"><span class=\"toc-item-num\">4.2.4&nbsp;&nbsp;</span>Addng more epochs to the dropout model</a></span></li><li><span><a href=\"#Regularisation-conclusion\" data-toc-modified-id=\"Regularisation-conclusion-4.2.5\"><span class=\"toc-item-num\">4.2.5&nbsp;&nbsp;</span>Regularisation conclusion</a></span></li><li><span><a href=\"#What-happens-if-the-number-of-dropout-layers-is-reduced?\" data-toc-modified-id=\"What-happens-if-the-number-of-dropout-layers-is-reduced?-4.2.6\"><span class=\"toc-item-num\">4.2.6&nbsp;&nbsp;</span>What happens if the number of dropout layers is reduced?</a></span></li></ul></li></ul></li><li><span><a href=\"#Convolutional-Neural-Network-Model\" data-toc-modified-id=\"Convolutional-Neural-Network-Model-5\"><span class=\"toc-item-num\">5&nbsp;&nbsp;</span>Convolutional Neural Network Model</a></span><ul class=\"toc-item\"><li><span><a href=\"#Reshape-the-data-into-28-x-28-images\" data-toc-modified-id=\"Reshape-the-data-into-28-x-28-images-5.1\"><span class=\"toc-item-num\">5.1&nbsp;&nbsp;</span>Reshape the data into 28 x 28 images</a></span></li><li><span><a href=\"#Basic-CNN-model\" data-toc-modified-id=\"Basic-CNN-model-5.2\"><span class=\"toc-item-num\">5.2&nbsp;&nbsp;</span>Basic CNN model</a></span></li><li><span><a href=\"#Can-a-more-complex-CNN-do-better?\" data-toc-modified-id=\"Can-a-more-complex-CNN-do-better?-5.3\"><span class=\"toc-item-num\">5.3&nbsp;&nbsp;</span>Can a more complex CNN do better?</a></span></li><li><span><a href=\"#99.2%-accuracy-amazing-!---what-digits-is-the-model-getting-wrong?\" data-toc-modified-id=\"99.2%-accuracy-amazing-!---what-digits-is-the-model-getting-wrong?-5.4\"><span class=\"toc-item-num\">5.4&nbsp;&nbsp;</span>99.2% accuracy amazing ! - what digits is the model getting wrong?</a></span></li><li><span><a href=\"#Results-summary\" data-toc-modified-id=\"Results-summary-5.5\"><span class=\"toc-item-num\">5.5&nbsp;&nbsp;</span>Results summary</a></span></li></ul></li><li><span><a href=\"#Overall-Conclusions\" data-toc-modified-id=\"Overall-Conclusions-6\"><span class=\"toc-item-num\">6&nbsp;&nbsp;</span>Overall Conclusions</a></span></li></ul></div>"
   ]
  },
  {
   "cell_type": "markdown",
   "metadata": {},
   "source": [
    "# Exploring Neural Networks for use with images; using the MNIST Digits data set  \n",
    "\n",
    "These experiments aimed to explore the performance of different types of Neural Networks and how to set up their hyperparameters. What is the ideal solution to analysing the standard MNIST digits data set?\n",
    "\n",
    "The MNIST digits data set http://yann.lecun.com/exdb/mnist/ of handwritten digits, has 70000 examples. The digits have already been size-normalized and centered in a fixed-size image of 28 x 28 pixels.  \n",
    "The data set was chosen for these experiments as it requires minimal preprocessing and formating. Therefore the focus can be on the performance different types of Neural Networks and the effect of hyperparameter tuning.  \n",
    " "
   ]
  },
  {
   "cell_type": "markdown",
   "metadata": {},
   "source": [
    "## Imports"
   ]
  },
  {
   "cell_type": "code",
   "execution_count": 1,
   "metadata": {},
   "outputs": [],
   "source": [
    "%matplotlib inline\n",
    "import matplotlib\n",
    "import matplotlib.pyplot as plt"
   ]
  },
  {
   "cell_type": "code",
   "execution_count": 2,
   "metadata": {},
   "outputs": [
    {
     "name": "stderr",
     "output_type": "stream",
     "text": [
      "Using TensorFlow backend.\n"
     ]
    }
   ],
   "source": [
    "from keras.layers import Dense\n",
    "from keras.models import Sequential\n",
    "from keras.utils import to_categorical"
   ]
  },
  {
   "cell_type": "code",
   "execution_count": 3,
   "metadata": {},
   "outputs": [],
   "source": [
    "import pandas as pd\n",
    "import numpy as np"
   ]
  },
  {
   "cell_type": "code",
   "execution_count": 4,
   "metadata": {},
   "outputs": [],
   "source": [
    "from sklearn.datasets import fetch_openml\n",
    "from sklearn.model_selection import train_test_split\n",
    "from sklearn.preprocessing import StandardScaler"
   ]
  },
  {
   "cell_type": "code",
   "execution_count": 27,
   "metadata": {},
   "outputs": [],
   "source": [
    "import warnings\n",
    "warnings.filterwarnings(action='once') # supress the repition of warnings"
   ]
  },
  {
   "cell_type": "markdown",
   "metadata": {},
   "source": [
    "## The Data  \n",
    "For full details of the data set used here see https://www.openml.org/d/554.\n",
    "  "
   ]
  },
  {
   "cell_type": "code",
   "execution_count": 5,
   "metadata": {},
   "outputs": [],
   "source": [
    "# Load data from https://www.openml.org/d/554\n",
    "X, y = fetch_openml('mnist_784', version=1, return_X_y=True)"
   ]
  },
  {
   "cell_type": "markdown",
   "metadata": {},
   "source": [
    "### What does the imported data set look like?   \n",
    "The data was received as two arrays loaded onto the variables X an y. X contains our image data and y contains the label to describe the image and is the target we will try to predict."
   ]
  },
  {
   "cell_type": "markdown",
   "metadata": {},
   "source": [
    "#### X  \n",
    "The shape command below shows that there are 70000 images, which fits with the data description above. The 784 columns is due to the data having one column for each pixel. i.e. 28 x 28 = 784. The data is in the numpy array format already rather than a dataframe and the values range from 0 to 255 for the pixel intensity.  "
   ]
  },
  {
   "cell_type": "code",
   "execution_count": 21,
   "metadata": {},
   "outputs": [
    {
     "name": "stdout",
     "output_type": "stream",
     "text": [
      " X shape: (70000, 784) \n",
      " X type: <class 'numpy.ndarray'> \n",
      " Data:\n",
      " [[0. 0. 0. ... 0. 0. 0.]\n",
      " [0. 0. 0. ... 0. 0. 0.]\n",
      " [0. 0. 0. ... 0. 0. 0.]\n",
      " [0. 0. 0. ... 0. 0. 0.]\n",
      " [0. 0. 0. ... 0. 0. 0.]] \n",
      " X Max: 255.0 \n",
      " X Min 0.0\n"
     ]
    }
   ],
   "source": [
    "print(' X shape:', X.shape, '\\n X type:', type(X), '\\n Data:\\n',\n",
    "      X[:5], '\\n X Max:', X.max(), '\\n X Min', X.min())"
   ]
  },
  {
   "cell_type": "markdown",
   "metadata": {},
   "source": [
    "#### y  \n",
    "y contains our target label and only has a single column with the labels 0 to 9. Notice that the labels are text strings rather than numbers."
   ]
  },
  {
   "cell_type": "code",
   "execution_count": 22,
   "metadata": {},
   "outputs": [
    {
     "name": "stdout",
     "output_type": "stream",
     "text": [
      " y shape: (70000,) \n",
      " y type: <class 'numpy.ndarray'> \n",
      " Data:\n",
      " ['5' '0' '4' '1' '9'] \n",
      " y Max: 9 \n",
      " y Min 0\n"
     ]
    }
   ],
   "source": [
    "print(' y shape:', y.shape, '\\n y type:', type(y), '\\n Data:\\n',\n",
    "      y[:5], '\\n y Max:', y.max(), '\\n y Min', y.min())"
   ]
  },
  {
   "cell_type": "markdown",
   "metadata": {},
   "source": [
    "### What do the digit images look like?  \n",
    "Lets have a look at the first 10 digits"
   ]
  },
  {
   "cell_type": "code",
   "execution_count": 23,
   "metadata": {},
   "outputs": [
    {
     "name": "stdout",
     "output_type": "stream",
     "text": [
      "The digit label 5\n"
     ]
    },
    {
     "data": {
      "image/png": "[encoded data removed]",
      "text/plain": [
       "<Figure size 432x288 with 1 Axes>"
      ]
     },
     "metadata": {
      "needs_background": "light"
     },
     "output_type": "display_data"
    },
    {
     "name": "stdout",
     "output_type": "stream",
     "text": [
      "The digit label 0\n"
     ]
    },
    {
     "data": {
      "image/png": "[encoded data removed]",
      "text/plain": [
       "<Figure size 432x288 with 1 Axes>"
      ]
     },
     "metadata": {
      "needs_background": "light"
     },
     "output_type": "display_data"
    },
    {
     "name": "stdout",
     "output_type": "stream",
     "text": [
      "The digit label 4\n"
     ]
    },
    {
     "data": {
      "image/png": "[encoded data removed]",
      "text/plain": [
       "<Figure size 432x288 with 1 Axes>"
      ]
     },
     "metadata": {
      "needs_background": "light"
     },
     "output_type": "display_data"
    },
    {
     "name": "stdout",
     "output_type": "stream",
     "text": [
      "The digit label 1\n"
     ]
    },
    {
     "data": {
      "image/png": "[encoded data removed]",
      "text/plain": [
       "<Figure size 432x288 with 1 Axes>"
      ]
     },
     "metadata": {
      "needs_background": "light"
     },
     "output_type": "display_data"
    },
    {
     "name": "stdout",
     "output_type": "stream",
     "text": [
      "The digit label 9\n"
     ]
    },
    {
     "data": {
      "image/png": "[encoded data removed]",
      "text/plain": [
       "<Figure size 432x288 with 1 Axes>"
      ]
     },
     "metadata": {
      "needs_background": "light"
     },
     "output_type": "display_data"
    },
    {
     "name": "stdout",
     "output_type": "stream",
     "text": [
      "The digit label 2\n"
     ]
    },
    {
     "data": {
      "image/png": "[encoded data removed]",
      "text/plain": [
       "<Figure size 432x288 with 1 Axes>"
      ]
     },
     "metadata": {
      "needs_background": "light"
     },
     "output_type": "display_data"
    },
    {
     "name": "stdout",
     "output_type": "stream",
     "text": [
      "The digit label 1\n"
     ]
    },
    {
     "data": {
      "image/png": "[encoded data removed]",
      "text/plain": [
       "<Figure size 432x288 with 1 Axes>"
      ]
     },
     "metadata": {
      "needs_background": "light"
     },
     "output_type": "display_data"
    },
    {
     "name": "stdout",
     "output_type": "stream",
     "text": [
      "The digit label 3\n"
     ]
    },
    {
     "data": {
      "image/png": "[encoded data removed]",
      "text/plain": [
       "<Figure size 432x288 with 1 Axes>"
      ]
     },
     "metadata": {
      "needs_background": "light"
     },
     "output_type": "display_data"
    },
    {
     "name": "stdout",
     "output_type": "stream",
     "text": [
      "The digit label 1\n"
     ]
    },
    {
     "data": {
      "image/png": "[encoded data removed]",
      "text/plain": [
       "<Figure size 432x288 with 1 Axes>"
      ]
     },
     "metadata": {
      "needs_background": "light"
     },
     "output_type": "display_data"
    },
    {
     "name": "stdout",
     "output_type": "stream",
     "text": [
      "The digit label 4\n"
     ]
    },
    {
     "data": {
      "image/png": "[encoded data removed]",
      "text/plain": [
       "<Figure size 432x288 with 1 Axes>"
      ]
     },
     "metadata": {
      "needs_background": "light"
     },
     "output_type": "display_data"
    }
   ],
   "source": [
    "for i in range(10):\n",
    "    a_digit = X[i].reshape(28, 28) # put the 784 columns into a 28 x 28 format\n",
    "    plt.imshow(a_digit, cmap=matplotlib.cm.binary)\n",
    "    print('The digit label', y[i])\n",
    "    plt.show()"
   ]
  },
  {
   "cell_type": "markdown",
   "metadata": {},
   "source": [
    "### Split the data into a training and test set.  \n",
    "In order to test the performance of these models the images need to be split into a training and test set (Validation set). We will keep back 25% of the image to evaluate the model's performance. The term validation set is often used for a test split of the training data when there is an unseen test dataset such as in data science competitions. Here the term will be used to mean the 25% test data held back from the training data. "
   ]
  },
  {
   "cell_type": "code",
   "execution_count": 24,
   "metadata": {},
   "outputs": [],
   "source": [
    "X_train, X_test, y_train, y_test = train_test_split(X, y , \n",
    "                                                    test_size=0.25, \n",
    "                                                    random_state=42, \n",
    "                                                    shuffle=True)"
   ]
  },
  {
   "cell_type": "markdown",
   "metadata": {},
   "source": [
    "### The y labels need to be converted to binary class matrices  \n",
    "i.e. a value of 1 or 0 for each label. To do this we will use the Keras function to_categorical"
   ]
  },
  {
   "cell_type": "code",
   "execution_count": 25,
   "metadata": {},
   "outputs": [],
   "source": [
    "num_classes = 10\n",
    "y_train = to_categorical(y_train, num_classes)\n",
    "y_test = to_categorical(y_test, num_classes)"
   ]
  },
  {
   "cell_type": "markdown",
   "metadata": {},
   "source": [
    "## Experimenting with a basic Deep Neural Network for image analysis using the MNIST digit dataset"
   ]
  },
  {
   "cell_type": "markdown",
   "metadata": {},
   "source": [
    "### Experiment 1 - Using a basic Keras Sequential Model  \n",
    "First we will use a model with a single Dense layer and an output layer to keep things as simple as possible and create a baseline to work from. For more information on the Sequential model see https://keras.io/getting-started/sequential-model-guide/"
   ]
  },
  {
   "cell_type": "code",
   "execution_count": 48,
   "metadata": {},
   "outputs": [
    {
     "name": "stdout",
     "output_type": "stream",
     "text": [
      "Train on 52500 samples, validate on 17500 samples\n",
      "Epoch 1/10\n",
      "52500/52500 [==============================] - 18s 336us/step - loss: 11.9466 - acc: 0.2583 - val_loss: 11.1276 - val_acc: 0.3091\n",
      "Epoch 2/10\n",
      "52500/52500 [==============================] - 15s 286us/step - loss: 10.3817 - acc: 0.3556 - val_loss: 10.5143 - val_acc: 0.3474\n",
      "Epoch 3/10\n",
      "52500/52500 [==============================] - 15s 290us/step - loss: 10.2372 - acc: 0.3646 - val_loss: 9.9996 - val_acc: 0.3794\n",
      "Epoch 4/10\n",
      "52500/52500 [==============================] - 15s 284us/step - loss: 9.1776 - acc: 0.4304 - val_loss: 8.5071 - val_acc: 0.4721\n",
      "Epoch 5/10\n",
      "52500/52500 [==============================] - 15s 285us/step - loss: 8.8312 - acc: 0.4518 - val_loss: 8.7095 - val_acc: 0.4595\n",
      "Epoch 6/10\n",
      "52500/52500 [==============================] - 15s 284us/step - loss: 8.9603 - acc: 0.4439 - val_loss: 8.3693 - val_acc: 0.4807\n",
      "Epoch 7/10\n",
      "52500/52500 [==============================] - 15s 285us/step - loss: 8.4256 - acc: 0.4771 - val_loss: 8.3829 - val_acc: 0.4798\n",
      "Epoch 8/10\n",
      "52500/52500 [==============================] - 16s 295us/step - loss: 8.0090 - acc: 0.5030 - val_loss: 7.7923 - val_acc: 0.5163\n",
      "Epoch 9/10\n",
      "52500/52500 [==============================] - 15s 290us/step - loss: 7.9085 - acc: 0.5091 - val_loss: 7.3233 - val_acc: 0.5455\n",
      "Epoch 10/10\n",
      "52500/52500 [==============================] - 15s 294us/step - loss: 7.5014 - acc: 0.5344 - val_loss: 7.5825 - val_acc: 0.5293\n"
     ]
    }
   ],
   "source": [
    "# use Keras to build the model\n",
    "model = Sequential()\n",
    "\n",
    "# layer 1\n",
    "model.add(Dense(300, input_dim=784,  activation='relu'))\n",
    "\n",
    "# output layer\n",
    "model.add(Dense(10, activation='softmax'))\n",
    "\n",
    "# Compile the model\n",
    "model.compile(optimizer='adam', loss='categorical_crossentropy',\n",
    "              metrics=['accuracy'])\n",
    "\n",
    "# Train the model\n",
    "model_his = model.fit(X_train, y_train,\n",
    "                      epochs=10,\n",
    "                      validation_data=(X_test, y_test)\n",
    "                     )"
   ]
  },
  {
   "cell_type": "code",
   "execution_count": 49,
   "metadata": {},
   "outputs": [
    {
     "name": "stdout",
     "output_type": "stream",
     "text": [
      "\n",
      " Fig 1. The highest test score:0.545 | The highest training score 0.534\n"
     ]
    },
    {
     "data": {
      "image/png": "[encoded data removed]",
      "text/plain": [
       "<Figure size 432x288 with 1 Axes>"
      ]
     },
     "metadata": {
      "needs_background": "light"
     },
     "output_type": "display_data"
    }
   ],
   "source": [
    "# create a function to plot the results and use later in the code\n",
    "def plot_results(acc, val_acc, fig_no):\n",
    "    # Plot train vs test accuracy per epoch\n",
    "    plt.figure()\n",
    "\n",
    "    # Use the history metrics\n",
    "    plt.plot(acc)\n",
    "    plt.plot(val_acc)\n",
    "\n",
    "    # add some labels\n",
    "    plt.title('Model accuracy')\n",
    "    plt.ylabel('Accuracy')\n",
    "    plt.xlabel('Epoch')\n",
    "    plt.legend(['Train data', 'Validation data'])\n",
    "    plt.ylim(0, 1)  # set to highest possible value to\n",
    "\n",
    "    # the highest accuracy score\n",
    "    print('\\n Fig {}. The highest test score:{:.3f} | The highest training score {:.3f}'.format(\n",
    "        fig_no, max(val_acc), max(acc)))\n",
    "    plt.show()\n",
    "    # keep a record of the results\n",
    "    return (max(acc), max(val_acc))\n",
    "\n",
    "exp1 = plot_results(model_his.history['acc'], model_his.history['val_acc'], 1)"
   ]
  },
  {
   "cell_type": "markdown",
   "metadata": {},
   "source": [
    "#### Experiment 1 results  \n",
    "The model performed poorly with accuracy ranging from 0.35 to 0.55 depending on the run. If you try repeating the run you will see that the performance is not very stable. The model was not overfitted with the training accuracy close to the validation accuracy"
   ]
  },
  {
   "cell_type": "markdown",
   "metadata": {},
   "source": [
    "### Experiment 2 - What effect does scaling the data have?\n",
    "In general, scaling improves the results of machine learning models. With neural networks, it is generally accepted that scaling the data will improve the convergence speed and the accuracy of the model. There are three approaches to scaling the data.  \n",
    "\n",
    "a) $(X - X.min()) / (X.max() - X.min())$   which produces values from 0 to 1  \n",
    "b) $2*(X - X.min()) / (X.max() - X.min()) - 1 $  which produces values from -1 to 1  \n",
    "c) $(X - X.mean()) / X.std()$   which centres the values around the mean\n",
    "\n",
    "The use of centring may also help to prevent vanishing and exploding gradients within the model. However, this data is already quite uniform with no outliers and the X values ranging from 0 to 255. Will any of these scaling methods improve the results of our simple model?"
   ]
  },
  {
   "cell_type": "code",
   "execution_count": 38,
   "metadata": {},
   "outputs": [],
   "source": [
    "# X min is zero so the equations above can be simplified\n",
    "Xa = X / X.max()\n",
    "Xb = 2 * (X / X.max()) -1\n",
    "Xc = (X - X.mean()) / X.std()"
   ]
  },
  {
   "cell_type": "code",
   "execution_count": null,
   "metadata": {},
   "outputs": [],
   "source": [
    "# repeat everything as before for each of the scaling methods\n",
    "exp = 2  # track which experiment we are on\n",
    "\n",
    "\n",
    "def scale_and_model(X, y, exp):\n",
    "    X_train, X_test, y_train, y_test = train_test_split(X, y,\n",
    "                                                        test_size=0.25,\n",
    "                                                        random_state=42,\n",
    "                                                        shuffle=True)\n",
    "    num_classes = 10\n",
    "    y_train = to_categorical(y_train, num_classes)\n",
    "    y_test = to_categorical(y_test, num_classes)\n",
    "\n",
    "    # use Keras to build the model\n",
    "    model = Sequential()\n",
    "    # layer 1\n",
    "    model.add(Dense(300, input_dim=784,  activation='relu'))\n",
    "    # output layer\n",
    "    model.add(Dense(10, activation='softmax'))\n",
    "    # Compile the model\n",
    "    model.compile(optimizer='adam', loss='categorical_crossentropy',\n",
    "                  metrics=['accuracy'])\n",
    "    # Train the model\n",
    "    model_H = model.fit(X_train, y_train,\n",
    "                        epochs=10,\n",
    "                        verbose=0,  # turn off the output of each epoch\n",
    "                        validation_data=(X_test, y_test)\n",
    "                        )\n",
    "\n",
    "    plot_results(model_H.history['acc'], model_H.history['val_acc'], exp)"
   ]
  },
  {
   "cell_type": "code",
   "execution_count": 52,
   "metadata": {},
   "outputs": [
    {
     "name": "stdout",
     "output_type": "stream",
     "text": [
      "\n",
      " Fig 2. The highest test score:0.979 | The highest training score 0.996\n"
     ]
    },
    {
     "data": {
      "image/png": "[encoded data removed]",
      "text/plain": [
       "<Figure size 432x288 with 1 Axes>"
      ]
     },
     "metadata": {
      "needs_background": "light"
     },
     "output_type": "display_data"
    }
   ],
   "source": [
    "exp2 = scale_and_model(Xa, y, 2)"
   ]
  },
  {
   "cell_type": "code",
   "execution_count": 53,
   "metadata": {},
   "outputs": [
    {
     "name": "stdout",
     "output_type": "stream",
     "text": [
      "\n",
      " Fig 3. The highest test score:0.973 | The highest training score 0.984\n"
     ]
    },
    {
     "data": {
      "image/png": "[encoded data removed]",
      "text/plain": [
       "<Figure size 432x288 with 1 Axes>"
      ]
     },
     "metadata": {
      "needs_background": "light"
     },
     "output_type": "display_data"
    }
   ],
   "source": [
    "exp3 = scale_and_model(Xb, y, 3)"
   ]
  },
  {
   "cell_type": "code",
   "execution_count": 54,
   "metadata": {},
   "outputs": [
    {
     "name": "stdout",
     "output_type": "stream",
     "text": [
      "\n",
      " Fig 4. The highest test score:0.976 | The highest training score 0.993\n"
     ]
    },
    {
     "data": {
      "image/png": "[encoded data removed]",
      "text/plain": [
       "<Figure size 432x288 with 1 Axes>"
      ]
     },
     "metadata": {
      "needs_background": "light"
     },
     "output_type": "display_data"
    }
   ],
   "source": [
    "exp4 = scale_and_model(Xc, y, 4)"
   ]
  },
  {
   "cell_type": "markdown",
   "metadata": {},
   "source": [
    "### Add a second hidden layer"
   ]
  },
  {
   "cell_type": "code",
   "execution_count": null,
   "metadata": {},
   "outputs": [],
   "source": [
    "model = Sequential()\n",
    "\n",
    "# layer 1\n",
    "model.add(Dense(300, input_dim=784,  activation='relu'))\n",
    "\n",
    "# layer 2\n",
    "model.add(Dense(100,  activation='relu'))\n",
    "\n",
    "# output layer \n",
    "model.add(Dense(10, activation='softmax'))\n",
    "\n",
    "# Compile the model\n",
    "model.compile(optimizer='adam', loss='categorical_crossentropy', metrics=['accuracy'])\n",
    "\n",
    "#Train the model\n",
    "model_his = model.fit(X_train, y_train, \n",
    "                      epochs=10, \n",
    "                      validation_data=(X_test, y_test) \n",
    "                      )\n",
    "\n",
    "# Plot train vs test accuracy per epoch\n",
    "plt.figure()\n",
    "\n",
    "# Use the history metrics\n",
    "plt.plot(model_his.history['acc'])\n",
    "plt.plot(model_his.history['val_acc'])\n",
    "\n",
    "# Make it pretty\n",
    "plt.title('Model accuracy')\n",
    "plt.ylabel('Accuracy')\n",
    "plt.xlabel('Epoch')\n",
    "plt.legend(['Train', 'Test'])\n",
    "# the highest accuracy score for the adding another hidden layer\n",
    "print('\\n The highest test score', max(model_his.history['val_acc']).round(3))\n",
    "plt.show()"
   ]
  },
  {
   "cell_type": "markdown",
   "metadata": {},
   "source": [
    "### What effect does adding a batch size have?"
   ]
  },
  {
   "cell_type": "code",
   "execution_count": null,
   "metadata": {},
   "outputs": [],
   "source": [
    "model = Sequential()\n",
    "\n",
    "# layer 1\n",
    "model.add(Dense(300, input_dim=784,  activation='relu'))\n",
    "\n",
    "# layer 2\n",
    "model.add(Dense(100,  activation='relu'))\n",
    "\n",
    "# output layer \n",
    "model.add(Dense(10, activation='softmax'))\n",
    "\n",
    "# Compile the model\n",
    "model.compile(optimizer='adam', loss='categorical_crossentropy', metrics=['accuracy'])\n",
    "\n",
    "#Train the model\n",
    "model_his = model.fit(X_train, y_train, \n",
    "                      batch_size=50, # 50, 128, 12\n",
    "                      epochs=10, \n",
    "                      validation_data=(X_test, y_test) \n",
    "                      )\n",
    "\n",
    "# Plot train vs test accuracy per epoch\n",
    "plt.figure()\n",
    "\n",
    "# Use the history metrics\n",
    "plt.plot(model_his.history['acc'])\n",
    "plt.plot(model_his.history['val_acc'])\n",
    "\n",
    "# Make it pretty\n",
    "plt.title('Model accuracy')\n",
    "plt.ylabel('Accuracy')\n",
    "plt.xlabel('Epoch')\n",
    "plt.legend(['Train', 'Test'])\n",
    "# the highest accuracy score for the adding another hidden layer\n",
    "print('\\nThe highest test score', max(model_his.history['val_acc']).round(3))\n",
    "plt.show()"
   ]
  },
  {
   "cell_type": "markdown",
   "metadata": {},
   "source": [
    "#### A small batch size, smooths the accuracy curve for the test samples  \n",
    "12 worked better than 50 and 128 was less smooth than 50 all values were smoother than using no batch size at all. The smaller size takes longer to complete each epoch - 35s for 12."
   ]
  },
  {
   "cell_type": "markdown",
   "metadata": {},
   "source": [
    "### Hands on book recommends multiple layers of the same size with no taper  \n"
   ]
  },
  {
   "cell_type": "code",
   "execution_count": null,
   "metadata": {},
   "outputs": [],
   "source": [
    "model = Sequential()\n",
    "\n",
    "# layer 1\n",
    "model.add(Dense(300, input_dim=784,  activation='relu'))\n",
    "\n",
    "# layer 2\n",
    "model.add(Dense(300,  activation='relu'))\n",
    "\n",
    "# layer 3\n",
    "model.add(Dense(300,  activation='relu'))\n",
    "\n",
    "# layer 4\n",
    "model.add(Dense(300,  activation='relu'))\n",
    "\n",
    "# output layer \n",
    "model.add(Dense(10, activation='softmax'))\n",
    "\n",
    "# Compile the model\n",
    "model.compile(optimizer='adam', loss='categorical_crossentropy', metrics=['accuracy'])\n",
    "\n",
    "#Train the model\n",
    "model_his = model.fit(X_train, y_train, \n",
    "                      batch_size=50, # 50, 128, 12\n",
    "                      epochs=10, \n",
    "                      validation_data=(X_test, y_test) \n",
    "                      )\n",
    "\n",
    "# Plot train vs test accuracy per epoch\n",
    "plt.figure()\n",
    "\n",
    "# Use the history metrics\n",
    "plt.plot(model_his.history['acc'])\n",
    "plt.plot(model_his.history['val_acc'])\n",
    "\n",
    "# Make it pretty\n",
    "plt.title('Model accuracy')\n",
    "plt.ylabel('Accuracy')\n",
    "plt.xlabel('Epoch')\n",
    "plt.legend(['Train', 'Test'])\n",
    "# the highest accuracy score for the adding another hidden layer\n",
    "print('\\nThe highest test score', max(model_his.history['val_acc']).round(3))\n",
    "plt.show()"
   ]
  },
  {
   "cell_type": "markdown",
   "metadata": {},
   "source": [
    "#### Summary  \n",
    "Looks like adding more hidden layers only marginally improves the model and batch size is a useful tool. "
   ]
  },
  {
   "cell_type": "markdown",
   "metadata": {},
   "source": [
    "## Improved Keras DNN model  \n",
    " "
   ]
  },
  {
   "cell_type": "markdown",
   "metadata": {},
   "source": [
    "### Steps to avoid vanishing/ exploding gradients\n"
   ]
  },
  {
   "cell_type": "markdown",
   "metadata": {},
   "source": [
    "####  Usage of initializers  \n",
    "\n",
    "The default option is Xavier initialisation, Gerlon in Hands On recommends He initialisation with relu activation"
   ]
  },
  {
   "cell_type": "code",
   "execution_count": null,
   "metadata": {},
   "outputs": [],
   "source": [
    "model = Sequential()\n",
    "# layer 1\n",
    "model.add(Dense(300, input_dim=784,  activation='relu', kernel_initializer='he_uniform'))\n",
    "# layer 2\n",
    "model.add(Dense(300,  activation='relu'))\n",
    "# layer 3\n",
    "model.add(Dense(300,  activation='relu'))\n",
    "# layer 4\n",
    "model.add(Dense(300,  activation='relu'))\n",
    "# output layer \n",
    "model.add(Dense(10, activation='softmax'))\n",
    "# Compile the model\n",
    "model.compile(optimizer='adam', loss='categorical_crossentropy', metrics=['accuracy'])\n",
    "#Train the model\n",
    "model_his = model.fit(X_train, y_train, \n",
    "                      batch_size=50, # 50, 128, 12\n",
    "                      epochs=10, \n",
    "                      validation_data=(X_test, y_test) \n",
    "                      )\n",
    "\n",
    "# Plot train vs test accuracy per epoch\n",
    "plt.figure()\n",
    "# Use the history metrics\n",
    "plt.plot(model_his.history['acc'])\n",
    "plt.plot(model_his.history['val_acc'])\n",
    "# Make it pretty\n",
    "plt.title('Model accuracy')\n",
    "plt.ylabel('Accuracy')\n",
    "plt.xlabel('Epoch')\n",
    "plt.legend(['Train', 'Test'])\n",
    "# the highest accuracy score for the adding another hidden layer\n",
    "print('\\nThe highest test score', max(model_his.history['val_acc']).round(3))\n",
    "plt.show()"
   ]
  },
  {
   "cell_type": "markdown",
   "metadata": {},
   "source": [
    "#### Activation Functions\n",
    "\n",
    "Used to avoid dying neurons stuck at zero output \n",
    "In general ELU > Leaky ReLU > ReLU > tanh > logistic  \n",
    "ELU is slighter slower during runtime"
   ]
  },
  {
   "cell_type": "code",
   "execution_count": null,
   "metadata": {},
   "outputs": [],
   "source": [
    "model = Sequential()\n",
    "# layer 1\n",
    "model.add(Dense(300, input_dim=784,  activation='relu', kernel_initializer='he_uniform'))\n",
    "# layer 2\n",
    "model.add(Dense(300,  activation='elu'))\n",
    "# layer 3\n",
    "model.add(Dense(300,  activation='elu'))\n",
    "# layer 4\n",
    "model.add(Dense(300,  activation='elu'))\n",
    "# output layer \n",
    "model.add(Dense(10, activation='softmax'))\n",
    "# Compile the model\n",
    "model.compile(optimizer='adam', loss='categorical_crossentropy', metrics=['accuracy'])\n",
    "#Train the model\n",
    "model_his = model.fit(X_train, y_train, \n",
    "                      batch_size=50, # 50, 128, 12\n",
    "                      epochs=10, \n",
    "                      validation_data=(X_test, y_test) \n",
    "                      )\n",
    "\n",
    "# Plot train vs test accuracy per epoch\n",
    "plt.figure()\n",
    "# Use the history metrics\n",
    "plt.plot(model_his.history['acc'])\n",
    "plt.plot(model_his.history['val_acc'])\n",
    "# Make it pretty\n",
    "plt.title('Model accuracy')\n",
    "plt.ylabel('Accuracy')\n",
    "plt.xlabel('Epoch')\n",
    "plt.legend(['Train', 'Test'])\n",
    "# the highest accuracy score for the adding another hidden layer\n",
    "print('\\nThe highest test score', max(model_his.history['val_acc']).round(3))\n",
    "plt.show()"
   ]
  },
  {
   "cell_type": "markdown",
   "metadata": {},
   "source": [
    "### Regularisation  "
   ]
  },
  {
   "cell_type": "markdown",
   "metadata": {},
   "source": [
    "#### Early Stopping"
   ]
  },
  {
   "cell_type": "code",
   "execution_count": null,
   "metadata": {},
   "outputs": [],
   "source": [
    "from keras.callbacks import EarlyStopping\n",
    "\n",
    "es = EarlyStopping(monitor='val_acc', mode='max', verbose=1, patience=3)\n",
    "\n",
    "model = Sequential()\n",
    "# layer 1\n",
    "model.add(Dense(300, input_dim=784,  activation='relu', kernel_initializer='he_uniform'))\n",
    "# layer 2\n",
    "model.add(Dense(300,  activation='elu'))\n",
    "# layer 3\n",
    "model.add(Dense(300,  activation='elu'))\n",
    "# layer 4\n",
    "model.add(Dense(300,  activation='elu'))\n",
    "# output layer \n",
    "model.add(Dense(10, activation='softmax'))\n",
    "# Compile the model\n",
    "model.compile(optimizer='adam', loss='categorical_crossentropy', metrics=['accuracy'])\n",
    "#Train the model\n",
    "model_his = model.fit(X_train, y_train, \n",
    "                      batch_size=50, # 50, 128, 12\n",
    "                      epochs=30, \n",
    "                      callbacks=[es],\n",
    "                      validation_data=(X_test, y_test) \n",
    "                      )\n",
    "\n",
    "# Plot train vs test accuracy per epoch\n",
    "plt.figure()\n",
    "# Use the history metrics\n",
    "plt.plot(model_his.history['acc'])\n",
    "plt.plot(model_his.history['val_acc'])\n",
    "# Make it pretty\n",
    "plt.title('Model accuracy')\n",
    "plt.ylabel('Accuracy')\n",
    "plt.xlabel('Epoch')\n",
    "plt.legend(['Train', 'Test'])\n",
    "# the highest accuracy score for the adding another hidden layer\n",
    "print('\\nThe highest test score', max(model_his.history['val_acc']).round(3))\n",
    "plt.show()\n"
   ]
  },
  {
   "cell_type": "markdown",
   "metadata": {},
   "source": [
    "#### Learning Rate reduction"
   ]
  },
  {
   "cell_type": "code",
   "execution_count": null,
   "metadata": {},
   "outputs": [],
   "source": [
    "from keras.callbacks import ReduceLROnPlateau\n",
    "\n",
    "red_lr = ReduceLROnPlateau(monitor='val_acc', patience=2, verbose=1, mode='max' )\n",
    "\n",
    "es = EarlyStopping(monitor='val_acc', mode='max', verbose=1, patience=5)\n",
    "\n",
    "model = Sequential()\n",
    "# layer 1\n",
    "model.add(Dense(300, input_dim=784,  activation='relu', kernel_initializer='he_uniform'))\n",
    "# layer 2\n",
    "model.add(Dense(300,  activation='elu'))\n",
    "# layer 3\n",
    "model.add(Dense(300,  activation='elu'))\n",
    "# layer 4\n",
    "model.add(Dense(300,  activation='elu'))\n",
    "# output layer \n",
    "model.add(Dense(10, activation='softmax'))\n",
    "# Compile the model\n",
    "model.compile(optimizer='adam', loss='categorical_crossentropy', metrics=['accuracy'])\n",
    "#Train the model\n",
    "model_his = model.fit(X_train, y_train, \n",
    "                      batch_size=50, # 50, 128, 12\n",
    "                      epochs=30, \n",
    "                      callbacks=[es, red_lr],\n",
    "                      validation_data=(X_test, y_test) \n",
    "                      )\n",
    "\n",
    "# Plot train vs test accuracy per epoch\n",
    "plt.figure()\n",
    "# Use the history metrics\n",
    "plt.plot(model_his.history['acc'])\n",
    "plt.plot(model_his.history['val_acc'])\n",
    "# Make it pretty\n",
    "plt.title('Model accuracy')\n",
    "plt.ylabel('Accuracy')\n",
    "plt.xlabel('Epoch')\n",
    "plt.legend(['Train', 'Test'])\n",
    "# the highest accuracy score for the adding another hidden layer\n",
    "print('\\nThe highest test score', max(model_his.history['val_acc']).round(3))\n",
    "plt.show()\n",
    "\n"
   ]
  },
  {
   "cell_type": "markdown",
   "metadata": {},
   "source": [
    "#### Adding Dropout Layers  \n",
    "Add a dropout layer between each hidden layer and see what happens"
   ]
  },
  {
   "cell_type": "code",
   "execution_count": null,
   "metadata": {},
   "outputs": [],
   "source": [
    "from keras.layers import Dropout\n",
    "\n",
    "red_lr = ReduceLROnPlateau(monitor='val_acc', patience=2, verbose=1, mode='max' )\n",
    "\n",
    "es = EarlyStopping(monitor='val_acc', mode='max', verbose=1, patience=5)\n",
    "\n",
    "model = Sequential()\n",
    "# layer 1\n",
    "model.add(Dense(300, input_dim=784,  activation='relu', kernel_initializer='he_uniform'))\n",
    "model.add(Dropout(0.5)) # 0.5 probability of a neuron being dropped\n",
    "model.add(Dense(300,  activation='elu'))\n",
    "model.add(Dropout(0.5))\n",
    "model.add(Dense(300,  activation='elu'))\n",
    "model.add(Dropout(0.5))\n",
    "model.add(Dense(300,  activation='elu'))\n",
    "model.add(Dropout(0.5)) \n",
    "model.add(Dense(10, activation='softmax'))\n",
    "# Compile the model\n",
    "model.compile(optimizer='adam', loss='categorical_crossentropy', metrics=['accuracy'])\n",
    "#Train the model\n",
    "model_his = model.fit(X_train, y_train, \n",
    "                      batch_size=50, # 50, 128, 12\n",
    "                      epochs=30, \n",
    "                      callbacks=[es, red_lr],\n",
    "                      validation_data=(X_test, y_test) \n",
    "                      )\n",
    "\n",
    "# Plot train vs test accuracy per epoch\n",
    "plt.figure()\n",
    "# Use the history metrics\n",
    "plt.plot(model_his.history['acc'])\n",
    "plt.plot(model_his.history['val_acc'])\n",
    "# Make it pretty\n",
    "plt.title('Model accuracy')\n",
    "plt.ylabel('Accuracy')\n",
    "plt.xlabel('Epoch')\n",
    "plt.legend(['Train', 'Test'])\n",
    "# the highest accuracy score for the adding another hidden layer\n",
    "print('\\nThe highest test score', max(model_his.history['val_acc']).round(3))\n",
    "plt.show()\n"
   ]
  },
  {
   "cell_type": "markdown",
   "metadata": {},
   "source": [
    "#### Addng more epochs to the dropout model  \n",
    "Adding the dropout layers slowed the training of the model, however it dramatically reduced over fitting and looked like it would continue to learn with additional epochs. So many dropout layers may be overkill?"
   ]
  },
  {
   "cell_type": "code",
   "execution_count": null,
   "metadata": {},
   "outputs": [],
   "source": [
    "red_lr = ReduceLROnPlateau(monitor='val_acc', patience=2, verbose=1, mode='max' )\n",
    "\n",
    "es = EarlyStopping(monitor='val_acc', mode='max', verbose=1, patience=8)\n",
    "\n",
    "model = Sequential()\n",
    "# layer 1\n",
    "model.add(Dense(300, input_dim=784,  activation='relu', kernel_initializer='he_uniform'))\n",
    "model.add(Dropout(0.5))\n",
    "model.add(Dense(300,  activation='elu'))\n",
    "model.add(Dropout(0.5))\n",
    "model.add(Dense(300,  activation='elu'))\n",
    "model.add(Dropout(0.5))\n",
    "model.add(Dense(300,  activation='elu'))\n",
    "model.add(Dropout(0.5)) \n",
    "model.add(Dense(10, activation='softmax'))\n",
    "# Compile the model\n",
    "model.compile(optimizer='adam', loss='categorical_crossentropy', metrics=['accuracy'])\n",
    "#Train the model\n",
    "model_his = model.fit(X_train, y_train, \n",
    "                      batch_size=50, # 50, 128, 12\n",
    "                      epochs=50, \n",
    "                      callbacks=[es, red_lr],\n",
    "                      validation_data=(X_test, y_test) \n",
    "                      )\n",
    "\n",
    "# Plot train vs test accuracy per epoch\n",
    "plt.figure()\n",
    "# Use the history metrics\n",
    "plt.plot(model_his.history['acc'])\n",
    "plt.plot(model_his.history['val_acc'])\n",
    "# Make it pretty\n",
    "plt.title('Model accuracy')\n",
    "plt.ylabel('Accuracy')\n",
    "plt.xlabel('Epoch')\n",
    "plt.legend(['Train', 'Test'])\n",
    "# the highest accuracy score for the adding another hidden layer\n",
    "print('\\nThe highest test score', max(model_his.history['val_acc']).round(3))\n",
    "plt.show()"
   ]
  },
  {
   "cell_type": "markdown",
   "metadata": {},
   "source": [
    "#### Regularisation conclusion  \n",
    "* The reduced learning rate function had a dramatic effect on improving the model accuracy  \n",
    "* The dropout layers improved the over fitting to the training data"
   ]
  },
  {
   "cell_type": "markdown",
   "metadata": {},
   "source": [
    "#### What happens if the number of dropout layers is reduced?"
   ]
  },
  {
   "cell_type": "code",
   "execution_count": null,
   "metadata": {},
   "outputs": [],
   "source": [
    "red_lr = ReduceLROnPlateau(monitor='val_acc', patience=2, verbose=1, mode='max' )\n",
    "\n",
    "es = EarlyStopping(monitor='val_acc', mode='max', verbose=1, patience=8)\n",
    "\n",
    "model = Sequential()\n",
    "# layer 1\n",
    "model.add(Dense(300, input_dim=784,  activation='relu', kernel_initializer='he_uniform'))\n",
    "model.add(Dropout(0.5))\n",
    "model.add(Dense(300,  activation='elu'))\n",
    "model.add(Dropout(0.5))\n",
    "model.add(Dense(300,  activation='elu'))\n",
    "# model.add(Dropout(0.5))\n",
    "model.add(Dense(300,  activation='elu'))\n",
    "# model.add(Dropout(0.5)) \n",
    "model.add(Dense(10, activation='softmax'))\n",
    "# Compile the model\n",
    "model.compile(optimizer='adam', loss='categorical_crossentropy', metrics=['accuracy'])\n",
    "#Train the model\n",
    "model_his = model.fit(X_train, y_train, \n",
    "                      batch_size=50, # 50, 128, 12\n",
    "                      epochs=50, \n",
    "                      callbacks=[es, red_lr],\n",
    "                      validation_data=(X_test, y_test) \n",
    "                      )\n",
    "\n",
    "# Plot train vs test accuracy per epoch\n",
    "plt.figure()\n",
    "# Use the history metrics\n",
    "plt.plot(model_his.history['acc'])\n",
    "plt.plot(model_his.history['val_acc'])\n",
    "# Make it pretty\n",
    "plt.title('Model accuracy')\n",
    "plt.ylabel('Accuracy')\n",
    "plt.xlabel('Epoch')\n",
    "plt.legend(['Train', 'Test'])\n",
    "# the highest accuracy score for the adding another hidden layer\n",
    "print('\\nThe highest test score', max(model_his.history['val_acc']).round(3))\n",
    "plt.show()"
   ]
  },
  {
   "cell_type": "markdown",
   "metadata": {},
   "source": [
    "## Convolutional Neural Network Model "
   ]
  },
  {
   "cell_type": "markdown",
   "metadata": {},
   "source": [
    "### Reshape the data into 28 x 28 images  \n",
    "The data used above was processed as single rows of 784 columns for the CNN we need to processes it as an image. Therefore it needs reshaping into 70000 28 x 28 arrays with a single channel for the greyscale values"
   ]
  },
  {
   "cell_type": "code",
   "execution_count": null,
   "metadata": {},
   "outputs": [],
   "source": [
    "# reshape to be [samples][width][height][channels]\n",
    "Xr = X.reshape(X.shape[0], 28, 28, 1)\n",
    "\n",
    "# normalise the data divide by the highest value \n",
    "Xr /= 255\n",
    "# check it looks right\n",
    "# Xr[0]"
   ]
  },
  {
   "cell_type": "code",
   "execution_count": null,
   "metadata": {},
   "outputs": [],
   "source": [
    "# convert class vectors to binary class matrices\n",
    "num_classes = 10\n",
    "y = to_categorical(y, num_classes)"
   ]
  },
  {
   "cell_type": "code",
   "execution_count": null,
   "metadata": {},
   "outputs": [],
   "source": [
    "# split the data \n",
    "X_train, X_test, y_train, y_test = train_test_split(Xr, y , \n",
    "                                                    test_size=0.25, \n",
    "                                                    random_state=42, \n",
    "                                                    shuffle=True)\n"
   ]
  },
  {
   "cell_type": "markdown",
   "metadata": {},
   "source": [
    "### Basic CNN model"
   ]
  },
  {
   "cell_type": "code",
   "execution_count": null,
   "metadata": {},
   "outputs": [],
   "source": [
    "from keras.layers import Conv2D, MaxPooling2D, Flatten\n",
    "\n",
    "red_lr = ReduceLROnPlateau(monitor='val_acc', patience=2, verbose=1, mode='max' )\n",
    "\n",
    "es = EarlyStopping(monitor='val_acc', mode='max', verbose=1, patience=8)\n",
    "\n",
    "model = Sequential()\n",
    "\n",
    "model.add(Conv2D(64, input_shape=(28, 28, 1) , kernel_size=(3,3), activation='elu'))\n",
    "model.add(MaxPooling2D(pool_size=(2, 2)))\n",
    "model.add(Flatten())\n",
    "model.add(Dense(300, activation='elu'))\n",
    "model.add(Dropout(0.5))\n",
    "model.add(Dense(10, activation='softmax'))\n",
    "# Compile the model\n",
    "model.compile(optimizer='adam', loss='categorical_crossentropy', metrics=['accuracy'])\n",
    "#Train the model\n",
    "model_his = model.fit(X_train, y_train, \n",
    "                      batch_size=50, # 50, 128, 12\n",
    "                      epochs=50, \n",
    "                      callbacks=[es, red_lr],\n",
    "                      validation_data=(X_test, y_test) \n",
    "                      )\n",
    "\n",
    "# Plot train vs test accuracy per epoch\n",
    "plt.figure()\n",
    "# Use the history metrics\n",
    "plt.plot(model_his.history['acc'])\n",
    "plt.plot(model_his.history['val_acc'])\n",
    "# Make it pretty\n",
    "plt.title('Model accuracy')\n",
    "plt.ylabel('Accuracy')\n",
    "plt.xlabel('Epoch')\n",
    "plt.legend(['Train', 'Test'])\n",
    "# the highest accuracy score for the adding another hidden layer\n",
    "print('\\nThe highest test score', max(model_his.history['val_acc']).round(3))\n",
    "plt.show()"
   ]
  },
  {
   "cell_type": "markdown",
   "metadata": {},
   "source": [
    "### Can a more complex CNN do better?  \n",
    "This model next model is based on a shortened ResNet style model with less convolutional layers and without the skipping layers"
   ]
  },
  {
   "cell_type": "code",
   "execution_count": null,
   "metadata": {},
   "outputs": [],
   "source": [
    "red_lr = ReduceLROnPlateau(monitor='val_acc', patience=2, verbose=1, mode='max' )\n",
    "\n",
    "es = EarlyStopping(monitor='val_acc', mode='max', verbose=1, patience=8)\n",
    "\n",
    "model = Sequential()\n",
    "\n",
    "model.add(Conv2D(64, input_shape=(28, 28, 1) , kernel_size=(7,7), activation='elu'))\n",
    "model.add(MaxPooling2D(pool_size=(3, 3)))\n",
    "model.add(Conv2D(64, kernel_size=(3,3), activation='elu'))\n",
    "model.add(Conv2D(64, kernel_size=(3,3), activation='elu'))\n",
    "model.add(MaxPooling2D(pool_size=(2, 2)))\n",
    "model.add(Flatten())\n",
    "model.add(Dense(300, activation='elu'))\n",
    "model.add(Dropout(0.5))\n",
    "model.add(Dense(300, activation='elu'))\n",
    "model.add(Dropout(0.5))\n",
    "model.add(Dense(10, activation='softmax'))\n",
    "# Compile the model\n",
    "model.compile(optimizer='adam', loss='categorical_crossentropy', metrics=['accuracy'])\n",
    "#Train the model\n",
    "model_his = model.fit(X_train, y_train, \n",
    "                      batch_size=50, # 50, 128, 12\n",
    "                      epochs=50, \n",
    "                      callbacks=[es, red_lr],\n",
    "                      validation_data=(X_test, y_test) \n",
    "                      )\n",
    "\n",
    "# Plot train vs test accuracy per epoch\n",
    "plt.figure()\n",
    "# Use the history metrics\n",
    "plt.plot(model_his.history['acc'])\n",
    "plt.plot(model_his.history['val_acc'])\n",
    "# Make it pretty\n",
    "plt.title('Model accuracy')\n",
    "plt.ylabel('Accuracy')\n",
    "plt.xlabel('Epoch')\n",
    "plt.legend(['Train', 'Test'])\n",
    "# the highest accuracy score for the adding another hidden layer\n",
    "print('\\nThe highest test score', max(model_his.history['val_acc']).round(3))\n",
    "plt.show()"
   ]
  },
  {
   "cell_type": "markdown",
   "metadata": {},
   "source": [
    "### 99.2% accuracy amazing ! - what digits is the model getting wrong?"
   ]
  },
  {
   "cell_type": "code",
   "execution_count": null,
   "metadata": {},
   "outputs": [],
   "source": [
    "# fit the model\n",
    "model.fit(X_train, y_train, \n",
    "                      batch_size=50,\n",
    "                      epochs=15)\n",
    "# predict X_test\n",
    "preds = model.predict(X_test)"
   ]
  },
  {
   "cell_type": "code",
   "execution_count": null,
   "metadata": {},
   "outputs": [],
   "source": [
    "# convert back from a categorical array to an array of the digits predicted and expected\n",
    "num_preds = np.argmax(preds, axis=1)\n",
    "\n",
    "num_y_test = np.argmax(y_test, axis=1)"
   ]
  },
  {
   "cell_type": "code",
   "execution_count": null,
   "metadata": {},
   "outputs": [],
   "source": [
    "# check the accuracy is the same as before\n",
    "from sklearn.metrics import accuracy_score\n",
    "\n",
    "accuracy_score(num_preds, num_y_test)"
   ]
  },
  {
   "cell_type": "code",
   "execution_count": null,
   "metadata": {},
   "outputs": [],
   "source": [
    "# which numbers did the model get wrong?\n",
    "# create a df to hold the results\n",
    "result = pd.DataFrame({'preds' : num_preds, 'y' : num_y_test})\n",
    "# label th inncorrect results\n",
    "result['correct'] = result['preds'] == result['y']\n",
    "# select the incorrect results\n",
    "wrong = result[result['correct'] == False]\n",
    "# which numbers did the model get wrong?\n",
    "wrong['y'].value_counts()"
   ]
  },
  {
   "cell_type": "markdown",
   "metadata": {},
   "source": [
    "There isn't a single number the model gets wrong, it performs better on 0's ,1's and 6's.\n",
    "Lets have a look at some of the misidentified numbers."
   ]
  },
  {
   "cell_type": "code",
   "execution_count": null,
   "metadata": {},
   "outputs": [],
   "source": [
    "wrong.head(9)"
   ]
  },
  {
   "cell_type": "code",
   "execution_count": null,
   "metadata": {},
   "outputs": [],
   "source": [
    "w_list = wrong[:18].index"
   ]
  },
  {
   "cell_type": "code",
   "execution_count": null,
   "metadata": {},
   "outputs": [],
   "source": [
    "plt.figure(figsize=(9, 12))\n",
    "for i, v in enumerate(w_list):\n",
    "    plt.subplot(6,3,i+1)\n",
    "    plt.imshow(X_test[v][:,:,0], cmap=matplotlib.cm.binary)\n",
    "    plt.title('Pred: {} Act: {}'.format(wrong['preds'][v], wrong['y'][v]))\n",
    "plt.tight_layout()\n",
    "plt.show()"
   ]
  },
  {
   "cell_type": "markdown",
   "metadata": {},
   "source": [
    "### Results summary  \n",
    "It can be seen from the output above that many of the digits the model got wrong would also be ambiguous to a human. There is little point in trying to improve the model further from here."
   ]
  },
  {
   "cell_type": "markdown",
   "metadata": {},
   "source": [
    "## Overall Conclusions  \n",
    "* Convolutional Neural Networks models easily outperform Deep Neural Networks\n",
    "* Dropout layer are an excellent way of providing regularisation\n",
    "* Reducing the learning rate is a good way of improving the model further when it gets stuck\n",
    "* Early Stopping is useful as epochs can be over prescribed when testing and training a model\n",
    "* ELU works well as an activation function although it did not dramatically improve the results\n",
    "* He initialsation worked well but again did not have a dramatic effect on the results\n"
   ]
  }
 ],
 "metadata": {
  "interpreter": {
   "hash": "a3f7d9f6c93655760e4fe02bbe261952b9ac5e5640d2f5425a0af87544b05d7c"
  },
  "kernelspec": {
   "display_name": "Python 3.7.5 64-bit ('PythonGPU': conda)",
   "name": "python3"
  },
  "language_info": {
   "codemirror_mode": {
    "name": "ipython",
    "version": 3
   },
   "file_extension": ".py",
   "mimetype": "text/x-python",
   "name": "python",
   "nbconvert_exporter": "python",
   "pygments_lexer": "ipython3",
   "version": "3.7.5"
  },
  "toc": {
   "base_numbering": 1,
   "nav_menu": {},
   "number_sections": true,
   "sideBar": true,
   "skip_h1_title": true,
   "title_cell": "Table of Contents",
   "title_sidebar": "Contents",
   "toc_cell": true,
   "toc_position": {
    "height": "calc(100% - 180px)",
    "left": "10px",
    "top": "150px",
    "width": "230.4px"
   },
   "toc_section_display": true,
   "toc_window_display": false
  },
  "varInspector": {
   "cols": {
    "lenName": 16,
    "lenType": 16,
    "lenVar": 40
   },
   "kernels_config": {
    "python": {
     "delete_cmd_postfix": "",
     "delete_cmd_prefix": "del ",
     "library": "var_list.py",
     "varRefreshCmd": "print(var_dic_list())"
    },
    "r": {
     "delete_cmd_postfix": ") ",
     "delete_cmd_prefix": "rm(",
     "library": "var_list.r",
     "varRefreshCmd": "cat(var_dic_list()) "
    }
   },
   "types_to_exclude": [
    "module",
    "function",
    "builtin_function_or_method",
    "instance",
    "_Feature"
   ],
   "window_display": false
  }
 },
 "nbformat": 4,
 "nbformat_minor": 2
}
