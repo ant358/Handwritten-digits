{
 "cells": [
  {
   "cell_type": "code",
   "execution_count": null,
   "metadata": {},
   "outputs": [],
   "source": [
    "#%timeit -o model.predict(X_val[:1])\n",
    "\n",
    "#res = _\n",
    "\n",
    "# res\n",
    "\n",
    "#sum(model_speed[1].all_runs)/len(model_speed[1].all_runs)\n",
    "\n",
    "# results = _\n",
    "# print(results)\n",
    "\n",
    "#type(results)\n",
    "\n",
    "# vars(model_speed[1])\n",
    "\n",
    "# model.predict(X_test[:10])\n",
    "\n",
    "# fig = plt.figure(figsize=(4,4))\n",
    "# a_digit = X[17].reshape(28, 28)\n",
    "# plt.imshow(a_digit, cmap=matplotlib.cm.binary)\n",
    "# fig.tight_layout()\n",
    "# plt.savefig('./images/mnist_digit8')\n",
    "# plt.show()\n",
    "\n",
    "# from Src import Src\n",
    "\n",
    "# Src.plot_plot_results(\n",
    "#     model_his.history['accuracy'], model_his.history['val_accuracy'], 1)"
   ]
  }
 ],
 "metadata": {
  "kernelspec": {
   "display_name": "Python 3",
   "language": "python",
   "name": "python3"
  },
  "language_info": {
   "codemirror_mode": {
    "name": "ipython",
    "version": 3
   },
   "file_extension": ".py",
   "mimetype": "text/x-python",
   "name": "python",
   "nbconvert_exporter": "python",
   "pygments_lexer": "ipython3",
   "version": "3.7.11"
  },
  "toc": {
   "base_numbering": 1,
   "nav_menu": {},
   "number_sections": true,
   "sideBar": true,
   "skip_h1_title": true,
   "title_cell": "Table of Contents",
   "title_sidebar": "Contents",
   "toc_cell": false,
   "toc_position": {},
   "toc_section_display": true,
   "toc_window_display": true
  },
  "varInspector": {
   "cols": {
    "lenName": 16,
    "lenType": 16,
    "lenVar": 40
   },
   "kernels_config": {
    "python": {
     "delete_cmd_postfix": "",
     "delete_cmd_prefix": "del ",
     "library": "var_list.py",
     "varRefreshCmd": "print(var_dic_list())"
    },
    "r": {
     "delete_cmd_postfix": ") ",
     "delete_cmd_prefix": "rm(",
     "library": "var_list.r",
     "varRefreshCmd": "cat(var_dic_list()) "
    }
   },
   "types_to_exclude": [
    "module",
    "function",
    "builtin_function_or_method",
    "instance",
    "_Feature"
   ],
   "window_display": false
  }
 },
 "nbformat": 4,
 "nbformat_minor": 2
}
